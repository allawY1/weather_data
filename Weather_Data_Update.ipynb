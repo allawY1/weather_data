{
 "cells": [
  {
   "cell_type": "markdown",
   "id": "f83a9611",
   "metadata": {},
   "source": [
    "## Import Libraries"
   ]
  },
  {
   "cell_type": "code",
   "execution_count": 1,
   "id": "96d549c7",
   "metadata": {},
   "outputs": [],
   "source": [
    "import pandas as pd\n",
    "import matplotlib.pyplot as plt\n",
    "import seaborn as sns \n",
    "sns.set()\n",
    "%matplotlib inline"
   ]
  },
  {
   "cell_type": "markdown",
   "id": "9e09c84d",
   "metadata": {},
   "source": [
    "## Import Data "
   ]
  },
  {
   "cell_type": "code",
   "execution_count": 2,
   "id": "8308e8bf",
   "metadata": {},
   "outputs": [],
   "source": [
    "df=pd.read_csv(\"1. Weather Data.csv\")"
   ]
  },
  {
   "cell_type": "markdown",
   "id": "ad743a3f",
   "metadata": {},
   "source": [
    "## Read Data"
   ]
  },
  {
   "cell_type": "code",
   "execution_count": 3,
   "id": "9e938d6d",
   "metadata": {},
   "outputs": [
    {
     "data": {
      "text/html": [
       "<div>\n",
       "<style scoped>\n",
       "    .dataframe tbody tr th:only-of-type {\n",
       "        vertical-align: middle;\n",
       "    }\n",
       "\n",
       "    .dataframe tbody tr th {\n",
       "        vertical-align: top;\n",
       "    }\n",
       "\n",
       "    .dataframe thead th {\n",
       "        text-align: right;\n",
       "    }\n",
       "</style>\n",
       "<table border=\"1\" class=\"dataframe\">\n",
       "  <thead>\n",
       "    <tr style=\"text-align: right;\">\n",
       "      <th></th>\n",
       "      <th>Date/Time</th>\n",
       "      <th>Temp_C</th>\n",
       "      <th>Dew Point Temp_C</th>\n",
       "      <th>Rel Hum_%</th>\n",
       "      <th>Wind Speed_km/h</th>\n",
       "      <th>Visibility_km</th>\n",
       "      <th>Press_kPa</th>\n",
       "      <th>Weather</th>\n",
       "    </tr>\n",
       "  </thead>\n",
       "  <tbody>\n",
       "    <tr>\n",
       "      <th>0</th>\n",
       "      <td>1/1/2012 0:00</td>\n",
       "      <td>-1.8</td>\n",
       "      <td>-3.9</td>\n",
       "      <td>86</td>\n",
       "      <td>4</td>\n",
       "      <td>8.0</td>\n",
       "      <td>101.24</td>\n",
       "      <td>Fog</td>\n",
       "    </tr>\n",
       "    <tr>\n",
       "      <th>1</th>\n",
       "      <td>1/1/2012 1:00</td>\n",
       "      <td>-1.8</td>\n",
       "      <td>-3.7</td>\n",
       "      <td>87</td>\n",
       "      <td>4</td>\n",
       "      <td>8.0</td>\n",
       "      <td>101.24</td>\n",
       "      <td>Fog</td>\n",
       "    </tr>\n",
       "    <tr>\n",
       "      <th>2</th>\n",
       "      <td>1/1/2012 2:00</td>\n",
       "      <td>-1.8</td>\n",
       "      <td>-3.4</td>\n",
       "      <td>89</td>\n",
       "      <td>7</td>\n",
       "      <td>4.0</td>\n",
       "      <td>101.26</td>\n",
       "      <td>Freezing Drizzle,Fog</td>\n",
       "    </tr>\n",
       "    <tr>\n",
       "      <th>3</th>\n",
       "      <td>1/1/2012 3:00</td>\n",
       "      <td>-1.5</td>\n",
       "      <td>-3.2</td>\n",
       "      <td>88</td>\n",
       "      <td>6</td>\n",
       "      <td>4.0</td>\n",
       "      <td>101.27</td>\n",
       "      <td>Freezing Drizzle,Fog</td>\n",
       "    </tr>\n",
       "    <tr>\n",
       "      <th>4</th>\n",
       "      <td>1/1/2012 4:00</td>\n",
       "      <td>-1.5</td>\n",
       "      <td>-3.3</td>\n",
       "      <td>88</td>\n",
       "      <td>7</td>\n",
       "      <td>4.8</td>\n",
       "      <td>101.23</td>\n",
       "      <td>Fog</td>\n",
       "    </tr>\n",
       "  </tbody>\n",
       "</table>\n",
       "</div>"
      ],
      "text/plain": [
       "       Date/Time  Temp_C  Dew Point Temp_C  Rel Hum_%  Wind Speed_km/h  \\\n",
       "0  1/1/2012 0:00    -1.8              -3.9         86                4   \n",
       "1  1/1/2012 1:00    -1.8              -3.7         87                4   \n",
       "2  1/1/2012 2:00    -1.8              -3.4         89                7   \n",
       "3  1/1/2012 3:00    -1.5              -3.2         88                6   \n",
       "4  1/1/2012 4:00    -1.5              -3.3         88                7   \n",
       "\n",
       "   Visibility_km  Press_kPa               Weather  \n",
       "0            8.0     101.24                   Fog  \n",
       "1            8.0     101.24                   Fog  \n",
       "2            4.0     101.26  Freezing Drizzle,Fog  \n",
       "3            4.0     101.27  Freezing Drizzle,Fog  \n",
       "4            4.8     101.23                   Fog  "
      ]
     },
     "execution_count": 3,
     "metadata": {},
     "output_type": "execute_result"
    }
   ],
   "source": [
    "df.head()"
   ]
  },
  {
   "cell_type": "code",
   "execution_count": 4,
   "id": "f4260288",
   "metadata": {},
   "outputs": [
    {
     "data": {
      "text/html": [
       "<div>\n",
       "<style scoped>\n",
       "    .dataframe tbody tr th:only-of-type {\n",
       "        vertical-align: middle;\n",
       "    }\n",
       "\n",
       "    .dataframe tbody tr th {\n",
       "        vertical-align: top;\n",
       "    }\n",
       "\n",
       "    .dataframe thead th {\n",
       "        text-align: right;\n",
       "    }\n",
       "</style>\n",
       "<table border=\"1\" class=\"dataframe\">\n",
       "  <thead>\n",
       "    <tr style=\"text-align: right;\">\n",
       "      <th></th>\n",
       "      <th>Date/Time</th>\n",
       "      <th>Temp_C</th>\n",
       "      <th>Dew Point Temp_C</th>\n",
       "      <th>Rel Hum_%</th>\n",
       "      <th>Wind Speed_km/h</th>\n",
       "      <th>Visibility_km</th>\n",
       "      <th>Press_kPa</th>\n",
       "      <th>Weather</th>\n",
       "    </tr>\n",
       "  </thead>\n",
       "  <tbody>\n",
       "    <tr>\n",
       "      <th>8779</th>\n",
       "      <td>12/31/2012 19:00</td>\n",
       "      <td>0.1</td>\n",
       "      <td>-2.7</td>\n",
       "      <td>81</td>\n",
       "      <td>30</td>\n",
       "      <td>9.7</td>\n",
       "      <td>100.13</td>\n",
       "      <td>Snow</td>\n",
       "    </tr>\n",
       "    <tr>\n",
       "      <th>8780</th>\n",
       "      <td>12/31/2012 20:00</td>\n",
       "      <td>0.2</td>\n",
       "      <td>-2.4</td>\n",
       "      <td>83</td>\n",
       "      <td>24</td>\n",
       "      <td>9.7</td>\n",
       "      <td>100.03</td>\n",
       "      <td>Snow</td>\n",
       "    </tr>\n",
       "    <tr>\n",
       "      <th>8781</th>\n",
       "      <td>12/31/2012 21:00</td>\n",
       "      <td>-0.5</td>\n",
       "      <td>-1.5</td>\n",
       "      <td>93</td>\n",
       "      <td>28</td>\n",
       "      <td>4.8</td>\n",
       "      <td>99.95</td>\n",
       "      <td>Snow</td>\n",
       "    </tr>\n",
       "    <tr>\n",
       "      <th>8782</th>\n",
       "      <td>12/31/2012 22:00</td>\n",
       "      <td>-0.2</td>\n",
       "      <td>-1.8</td>\n",
       "      <td>89</td>\n",
       "      <td>28</td>\n",
       "      <td>9.7</td>\n",
       "      <td>99.91</td>\n",
       "      <td>Snow</td>\n",
       "    </tr>\n",
       "    <tr>\n",
       "      <th>8783</th>\n",
       "      <td>12/31/2012 23:00</td>\n",
       "      <td>0.0</td>\n",
       "      <td>-2.1</td>\n",
       "      <td>86</td>\n",
       "      <td>30</td>\n",
       "      <td>11.3</td>\n",
       "      <td>99.89</td>\n",
       "      <td>Snow</td>\n",
       "    </tr>\n",
       "  </tbody>\n",
       "</table>\n",
       "</div>"
      ],
      "text/plain": [
       "             Date/Time  Temp_C  Dew Point Temp_C  Rel Hum_%  Wind Speed_km/h  \\\n",
       "8779  12/31/2012 19:00     0.1              -2.7         81               30   \n",
       "8780  12/31/2012 20:00     0.2              -2.4         83               24   \n",
       "8781  12/31/2012 21:00    -0.5              -1.5         93               28   \n",
       "8782  12/31/2012 22:00    -0.2              -1.8         89               28   \n",
       "8783  12/31/2012 23:00     0.0              -2.1         86               30   \n",
       "\n",
       "      Visibility_km  Press_kPa Weather  \n",
       "8779            9.7     100.13    Snow  \n",
       "8780            9.7     100.03    Snow  \n",
       "8781            4.8      99.95    Snow  \n",
       "8782            9.7      99.91    Snow  \n",
       "8783           11.3      99.89    Snow  "
      ]
     },
     "execution_count": 4,
     "metadata": {},
     "output_type": "execute_result"
    }
   ],
   "source": [
    "df.tail()"
   ]
  },
  {
   "cell_type": "markdown",
   "id": "b2506269",
   "metadata": {},
   "source": [
    "## Explore Data"
   ]
  },
  {
   "cell_type": "code",
   "execution_count": 5,
   "id": "f02b1b37",
   "metadata": {},
   "outputs": [
    {
     "data": {
      "text/plain": [
       "(8784, 8)"
      ]
     },
     "execution_count": 5,
     "metadata": {},
     "output_type": "execute_result"
    }
   ],
   "source": [
    "df.shape"
   ]
  },
  {
   "cell_type": "code",
   "execution_count": 6,
   "id": "27dd8d8b",
   "metadata": {},
   "outputs": [
    {
     "data": {
      "text/plain": [
       "RangeIndex(start=0, stop=8784, step=1)"
      ]
     },
     "execution_count": 6,
     "metadata": {},
     "output_type": "execute_result"
    }
   ],
   "source": [
    "df.index"
   ]
  },
  {
   "cell_type": "code",
   "execution_count": 7,
   "id": "9b411788",
   "metadata": {},
   "outputs": [
    {
     "name": "stdout",
     "output_type": "stream",
     "text": [
      "<class 'pandas.core.frame.DataFrame'>\n",
      "RangeIndex: 8784 entries, 0 to 8783\n",
      "Data columns (total 8 columns):\n",
      " #   Column            Non-Null Count  Dtype  \n",
      "---  ------            --------------  -----  \n",
      " 0   Date/Time         8784 non-null   object \n",
      " 1   Temp_C            8784 non-null   float64\n",
      " 2   Dew Point Temp_C  8784 non-null   float64\n",
      " 3   Rel Hum_%         8784 non-null   int64  \n",
      " 4   Wind Speed_km/h   8784 non-null   int64  \n",
      " 5   Visibility_km     8784 non-null   float64\n",
      " 6   Press_kPa         8784 non-null   float64\n",
      " 7   Weather           8784 non-null   object \n",
      "dtypes: float64(4), int64(2), object(2)\n",
      "memory usage: 549.1+ KB\n"
     ]
    }
   ],
   "source": [
    "df.info()"
   ]
  },
  {
   "cell_type": "code",
   "execution_count": 8,
   "id": "097692d0",
   "metadata": {},
   "outputs": [
    {
     "data": {
      "text/html": [
       "<div>\n",
       "<style scoped>\n",
       "    .dataframe tbody tr th:only-of-type {\n",
       "        vertical-align: middle;\n",
       "    }\n",
       "\n",
       "    .dataframe tbody tr th {\n",
       "        vertical-align: top;\n",
       "    }\n",
       "\n",
       "    .dataframe thead th {\n",
       "        text-align: right;\n",
       "    }\n",
       "</style>\n",
       "<table border=\"1\" class=\"dataframe\">\n",
       "  <thead>\n",
       "    <tr style=\"text-align: right;\">\n",
       "      <th></th>\n",
       "      <th>Temp_C</th>\n",
       "      <th>Dew Point Temp_C</th>\n",
       "      <th>Rel Hum_%</th>\n",
       "      <th>Wind Speed_km/h</th>\n",
       "      <th>Visibility_km</th>\n",
       "      <th>Press_kPa</th>\n",
       "    </tr>\n",
       "  </thead>\n",
       "  <tbody>\n",
       "    <tr>\n",
       "      <th>count</th>\n",
       "      <td>8784.000000</td>\n",
       "      <td>8784.000000</td>\n",
       "      <td>8784.000000</td>\n",
       "      <td>8784.000000</td>\n",
       "      <td>8784.000000</td>\n",
       "      <td>8784.000000</td>\n",
       "    </tr>\n",
       "    <tr>\n",
       "      <th>mean</th>\n",
       "      <td>8.798144</td>\n",
       "      <td>2.555294</td>\n",
       "      <td>67.431694</td>\n",
       "      <td>14.945469</td>\n",
       "      <td>27.664447</td>\n",
       "      <td>101.051623</td>\n",
       "    </tr>\n",
       "    <tr>\n",
       "      <th>std</th>\n",
       "      <td>11.687883</td>\n",
       "      <td>10.883072</td>\n",
       "      <td>16.918881</td>\n",
       "      <td>8.688696</td>\n",
       "      <td>12.622688</td>\n",
       "      <td>0.844005</td>\n",
       "    </tr>\n",
       "    <tr>\n",
       "      <th>min</th>\n",
       "      <td>-23.300000</td>\n",
       "      <td>-28.500000</td>\n",
       "      <td>18.000000</td>\n",
       "      <td>0.000000</td>\n",
       "      <td>0.200000</td>\n",
       "      <td>97.520000</td>\n",
       "    </tr>\n",
       "    <tr>\n",
       "      <th>25%</th>\n",
       "      <td>0.100000</td>\n",
       "      <td>-5.900000</td>\n",
       "      <td>56.000000</td>\n",
       "      <td>9.000000</td>\n",
       "      <td>24.100000</td>\n",
       "      <td>100.560000</td>\n",
       "    </tr>\n",
       "    <tr>\n",
       "      <th>50%</th>\n",
       "      <td>9.300000</td>\n",
       "      <td>3.300000</td>\n",
       "      <td>68.000000</td>\n",
       "      <td>13.000000</td>\n",
       "      <td>25.000000</td>\n",
       "      <td>101.070000</td>\n",
       "    </tr>\n",
       "    <tr>\n",
       "      <th>75%</th>\n",
       "      <td>18.800000</td>\n",
       "      <td>11.800000</td>\n",
       "      <td>81.000000</td>\n",
       "      <td>20.000000</td>\n",
       "      <td>25.000000</td>\n",
       "      <td>101.590000</td>\n",
       "    </tr>\n",
       "    <tr>\n",
       "      <th>max</th>\n",
       "      <td>33.000000</td>\n",
       "      <td>24.400000</td>\n",
       "      <td>100.000000</td>\n",
       "      <td>83.000000</td>\n",
       "      <td>48.300000</td>\n",
       "      <td>103.650000</td>\n",
       "    </tr>\n",
       "  </tbody>\n",
       "</table>\n",
       "</div>"
      ],
      "text/plain": [
       "            Temp_C  Dew Point Temp_C    Rel Hum_%  Wind Speed_km/h  \\\n",
       "count  8784.000000       8784.000000  8784.000000      8784.000000   \n",
       "mean      8.798144          2.555294    67.431694        14.945469   \n",
       "std      11.687883         10.883072    16.918881         8.688696   \n",
       "min     -23.300000        -28.500000    18.000000         0.000000   \n",
       "25%       0.100000         -5.900000    56.000000         9.000000   \n",
       "50%       9.300000          3.300000    68.000000        13.000000   \n",
       "75%      18.800000         11.800000    81.000000        20.000000   \n",
       "max      33.000000         24.400000   100.000000        83.000000   \n",
       "\n",
       "       Visibility_km    Press_kPa  \n",
       "count    8784.000000  8784.000000  \n",
       "mean       27.664447   101.051623  \n",
       "std        12.622688     0.844005  \n",
       "min         0.200000    97.520000  \n",
       "25%        24.100000   100.560000  \n",
       "50%        25.000000   101.070000  \n",
       "75%        25.000000   101.590000  \n",
       "max        48.300000   103.650000  "
      ]
     },
     "execution_count": 8,
     "metadata": {},
     "output_type": "execute_result"
    }
   ],
   "source": [
    "df.describe()"
   ]
  },
  {
   "cell_type": "code",
   "execution_count": 9,
   "id": "4459c0a7",
   "metadata": {},
   "outputs": [
    {
     "data": {
      "text/plain": [
       "Date/Time           8784\n",
       "Temp_C              8784\n",
       "Dew Point Temp_C    8784\n",
       "Rel Hum_%           8784\n",
       "Wind Speed_km/h     8784\n",
       "Visibility_km       8784\n",
       "Press_kPa           8784\n",
       "Weather             8784\n",
       "dtype: int64"
      ]
     },
     "execution_count": 9,
     "metadata": {},
     "output_type": "execute_result"
    }
   ],
   "source": [
    "df.count()"
   ]
  },
  {
   "cell_type": "code",
   "execution_count": 10,
   "id": "d29083c2",
   "metadata": {},
   "outputs": [
    {
     "data": {
      "text/plain": [
       "Date/Time           8784\n",
       "Temp_C               533\n",
       "Dew Point Temp_C     489\n",
       "Rel Hum_%             83\n",
       "Wind Speed_km/h       34\n",
       "Visibility_km         24\n",
       "Press_kPa            518\n",
       "Weather               50\n",
       "dtype: int64"
      ]
     },
     "execution_count": 10,
     "metadata": {},
     "output_type": "execute_result"
    }
   ],
   "source": [
    "df.nunique()"
   ]
  },
  {
   "cell_type": "code",
   "execution_count": 11,
   "id": "e64ad0d0",
   "metadata": {},
   "outputs": [
    {
     "data": {
      "text/plain": [
       "Index(['Date/Time', 'Temp_C', 'Dew Point Temp_C', 'Rel Hum_%',\n",
       "       'Wind Speed_km/h', 'Visibility_km', 'Press_kPa', 'Weather'],\n",
       "      dtype='object')"
      ]
     },
     "execution_count": 11,
     "metadata": {},
     "output_type": "execute_result"
    }
   ],
   "source": [
    "df.columns"
   ]
  },
  {
   "cell_type": "code",
   "execution_count": 12,
   "id": "c507a312",
   "metadata": {},
   "outputs": [
    {
     "data": {
      "text/plain": [
       "Date/Time            object\n",
       "Temp_C              float64\n",
       "Dew Point Temp_C    float64\n",
       "Rel Hum_%             int64\n",
       "Wind Speed_km/h       int64\n",
       "Visibility_km       float64\n",
       "Press_kPa           float64\n",
       "Weather              object\n",
       "dtype: object"
      ]
     },
     "execution_count": 12,
     "metadata": {},
     "output_type": "execute_result"
    }
   ],
   "source": [
    "df.dtypes"
   ]
  },
  {
   "cell_type": "markdown",
   "id": "39124b68",
   "metadata": {},
   "source": [
    "## Clean Data "
   ]
  },
  {
   "cell_type": "code",
   "execution_count": 13,
   "id": "3c574308",
   "metadata": {},
   "outputs": [
    {
     "data": {
      "text/plain": [
       "0"
      ]
     },
     "execution_count": 13,
     "metadata": {},
     "output_type": "execute_result"
    }
   ],
   "source": [
    "mask1=df.isnull().any(axis=0)\n",
    "mask1.sum()"
   ]
  },
  {
   "cell_type": "code",
   "execution_count": 14,
   "id": "8b0b29a2",
   "metadata": {},
   "outputs": [
    {
     "data": {
      "text/plain": [
       "0"
      ]
     },
     "execution_count": 14,
     "metadata": {},
     "output_type": "execute_result"
    }
   ],
   "source": [
    "mask2=df.isnull().any(axis=1)\n",
    "mask2.sum()"
   ]
  },
  {
   "cell_type": "code",
   "execution_count": 15,
   "id": "5d114802",
   "metadata": {},
   "outputs": [
    {
     "data": {
      "text/plain": [
       "0"
      ]
     },
     "execution_count": 15,
     "metadata": {},
     "output_type": "execute_result"
    }
   ],
   "source": [
    "df.duplicated().sum()"
   ]
  },
  {
   "cell_type": "code",
   "execution_count": 16,
   "id": "ba21b055",
   "metadata": {},
   "outputs": [],
   "source": [
    "import numpy as np"
   ]
  },
  {
   "cell_type": "code",
   "execution_count": 17,
   "id": "c26f1810",
   "metadata": {},
   "outputs": [
    {
     "name": "stdout",
     "output_type": "stream",
     "text": [
      "Temp_C\n",
      "Dew Point Temp_C\n",
      "Rel Hum_%\n",
      "Wind Speed_km/h\n",
      "Visibility_km\n"
     ]
    }
   ],
   "source": [
    "for col_name in df.select_dtypes(include=np.number).columns[:-1]:\n",
    "    print(col_name)"
   ]
  },
  {
   "cell_type": "code",
   "execution_count": 18,
   "id": "fd3f10b1",
   "metadata": {},
   "outputs": [],
   "source": [
    "q1 = df[col_name].quantile(0.25)\n",
    "q3 = df[col_name].quantile(0.75)"
   ]
  },
  {
   "cell_type": "code",
   "execution_count": 19,
   "id": "63c39d2b",
   "metadata": {},
   "outputs": [
    {
     "data": {
      "text/plain": [
       "0.8999999999999986"
      ]
     },
     "execution_count": 19,
     "metadata": {},
     "output_type": "execute_result"
    }
   ],
   "source": [
    "iqr = q3 - q1\n",
    "iqr"
   ]
  },
  {
   "cell_type": "code",
   "execution_count": 20,
   "id": "fcd05997",
   "metadata": {},
   "outputs": [],
   "source": [
    "low = q1-1.5*iqr\n",
    "high = q3+1.5*iqr"
   ]
  },
  {
   "cell_type": "code",
   "execution_count": 21,
   "id": "3544f253",
   "metadata": {},
   "outputs": [
    {
     "data": {
      "text/plain": [
       "22.750000000000004"
      ]
     },
     "execution_count": 21,
     "metadata": {},
     "output_type": "execute_result"
    }
   ],
   "source": [
    "low"
   ]
  },
  {
   "cell_type": "code",
   "execution_count": 22,
   "id": "612c4362",
   "metadata": {},
   "outputs": [
    {
     "data": {
      "text/plain": [
       "26.349999999999998"
      ]
     },
     "execution_count": 22,
     "metadata": {},
     "output_type": "execute_result"
    }
   ],
   "source": [
    "high"
   ]
  },
  {
   "cell_type": "code",
   "execution_count": 23,
   "id": "afc7b8cd",
   "metadata": {},
   "outputs": [
    {
     "name": "stdout",
     "output_type": "stream",
     "text": [
      "Outliers =  0        8.0\n",
      "1        8.0\n",
      "2        4.0\n",
      "3        4.0\n",
      "4        4.8\n",
      "        ... \n",
      "8779     9.7\n",
      "8780     9.7\n",
      "8781     4.8\n",
      "8782     9.7\n",
      "8783    11.3\n",
      "Name: Visibility_km, Length: 3539, dtype: float64\n"
     ]
    }
   ],
   "source": [
    " print(\"Outliers = \",df.loc[(df[col_name] < low) | (df[col_name] > high), col_name])"
   ]
  },
  {
   "cell_type": "code",
   "execution_count": 24,
   "id": "04c06659",
   "metadata": {},
   "outputs": [
    {
     "data": {
      "text/plain": [
       "<AxesSubplot:ylabel='Visibility_km'>"
      ]
     },
     "execution_count": 24,
     "metadata": {},
     "output_type": "execute_result"
    },
    {
     "data": {
      "image/png": "[encoded data removed]",
      "text/plain": [
       "<Figure size 432x288 with 1 Axes>"
      ]
     },
     "metadata": {
      "needs_background": "light"
     },
     "output_type": "display_data"
    }
   ],
   "source": [
    "sns.boxplot(y=\"Visibility_km\",data=df)"
   ]
  },
  {
   "cell_type": "code",
   "execution_count": 25,
   "id": "7338e576",
   "metadata": {},
   "outputs": [
    {
     "name": "stdout",
     "output_type": "stream",
     "text": [
      "Change the outliers with median  25.0\n"
     ]
    }
   ],
   "source": [
    "print(\"Change the outliers with median \",df[col_name].median())\n",
    "df.loc[(df[col_name] < low) | (df[col_name] > high), col_name] = df[col_name].median()"
   ]
  },
  {
   "cell_type": "code",
   "execution_count": 26,
   "id": "bfd631a0",
   "metadata": {},
   "outputs": [
    {
     "data": {
      "text/plain": [
       "<AxesSubplot:ylabel='Visibility_km'>"
      ]
     },
     "execution_count": 26,
     "metadata": {},
     "output_type": "execute_result"
    },
    {
     "data": {
      "image/png": "[encoded data removed]",
      "text/plain": [
       "<Figure size 432x288 with 1 Axes>"
      ]
     },
     "metadata": {
      "needs_background": "light"
     },
     "output_type": "display_data"
    }
   ],
   "source": [
    "sns.boxplot(y=\"Visibility_km\",data=df)"
   ]
  },
  {
   "cell_type": "markdown",
   "id": "8da00bab",
   "metadata": {},
   "source": [
    "## Analysis"
   ]
  },
  {
   "cell_type": "code",
   "execution_count": 27,
   "id": "ccecd3c9",
   "metadata": {},
   "outputs": [
    {
     "data": {
      "image/png": "[encoded data removed]",
      "text/plain": [
       "<Figure size 1440x1080 with 6 Axes>"
      ]
     },
     "metadata": {
      "needs_background": "light"
     },
     "output_type": "display_data"
    }
   ],
   "source": [
    "df.hist(figsize=(20,15))\n",
    "plt.show()"
   ]
  },
  {
   "cell_type": "code",
   "execution_count": 28,
   "id": "f24c0290",
   "metadata": {},
   "outputs": [
    {
     "data": {
      "text/plain": [
       "Index(['Date/Time', 'Temp_C', 'Dew Point Temp_C', 'Rel Hum_%',\n",
       "       'Wind Speed_km/h', 'Visibility_km', 'Press_kPa', 'Weather'],\n",
       "      dtype='object')"
      ]
     },
     "execution_count": 28,
     "metadata": {},
     "output_type": "execute_result"
    }
   ],
   "source": [
    "df.columns"
   ]
  },
  {
   "cell_type": "code",
   "execution_count": 29,
   "id": "dcc236b0",
   "metadata": {},
   "outputs": [
    {
     "data": {
      "text/plain": [
       "array([ 4,  7,  6,  9, 15, 13, 20, 22, 19, 24, 30, 35, 39, 32, 33, 26, 44,\n",
       "       43, 48, 37, 28, 17, 11,  0, 83, 70, 57, 46, 41, 52, 50, 63, 54,  2],\n",
       "      dtype=int64)"
      ]
     },
     "execution_count": 29,
     "metadata": {},
     "output_type": "execute_result"
    }
   ],
   "source": [
    "df[\"Wind Speed_km/h\"].unique()"
   ]
  },
  {
   "cell_type": "code",
   "execution_count": 30,
   "id": "aae8ca30",
   "metadata": {},
   "outputs": [
    {
     "data": {
      "text/plain": [
       "34"
      ]
     },
     "execution_count": 30,
     "metadata": {},
     "output_type": "execute_result"
    }
   ],
   "source": [
    "df[\"Wind Speed_km/h\"].nunique()"
   ]
  },
  {
   "cell_type": "code",
   "execution_count": 31,
   "id": "a81b3f50",
   "metadata": {},
   "outputs": [
    {
     "data": {
      "text/plain": [
       "13.0"
      ]
     },
     "execution_count": 31,
     "metadata": {},
     "output_type": "execute_result"
    }
   ],
   "source": [
    "df[\"Wind Speed_km/h\"].median()"
   ]
  },
  {
   "cell_type": "code",
   "execution_count": 32,
   "id": "cbf57f3c",
   "metadata": {},
   "outputs": [
    {
     "data": {
      "text/html": [
       "<div>\n",
       "<style scoped>\n",
       "    .dataframe tbody tr th:only-of-type {\n",
       "        vertical-align: middle;\n",
       "    }\n",
       "\n",
       "    .dataframe tbody tr th {\n",
       "        vertical-align: top;\n",
       "    }\n",
       "\n",
       "    .dataframe thead th {\n",
       "        text-align: right;\n",
       "    }\n",
       "</style>\n",
       "<table border=\"1\" class=\"dataframe\">\n",
       "  <thead>\n",
       "    <tr style=\"text-align: right;\">\n",
       "      <th></th>\n",
       "      <th>Date/Time</th>\n",
       "      <th>Temp_C</th>\n",
       "      <th>Dew Point Temp_C</th>\n",
       "      <th>Rel Hum_%</th>\n",
       "      <th>Wind Speed_km/h</th>\n",
       "      <th>Visibility_km</th>\n",
       "      <th>Press_kPa</th>\n",
       "      <th>Weather</th>\n",
       "    </tr>\n",
       "  </thead>\n",
       "  <tbody>\n",
       "    <tr>\n",
       "      <th>13</th>\n",
       "      <td>1/1/2012 13:00</td>\n",
       "      <td>0.2</td>\n",
       "      <td>-1.7</td>\n",
       "      <td>87</td>\n",
       "      <td>13</td>\n",
       "      <td>25.0</td>\n",
       "      <td>100.58</td>\n",
       "      <td>Fog</td>\n",
       "    </tr>\n",
       "    <tr>\n",
       "      <th>16</th>\n",
       "      <td>1/1/2012 16:00</td>\n",
       "      <td>2.6</td>\n",
       "      <td>-0.2</td>\n",
       "      <td>82</td>\n",
       "      <td>13</td>\n",
       "      <td>25.0</td>\n",
       "      <td>99.93</td>\n",
       "      <td>Mostly Cloudy</td>\n",
       "    </tr>\n",
       "    <tr>\n",
       "      <th>17</th>\n",
       "      <td>1/1/2012 17:00</td>\n",
       "      <td>3.0</td>\n",
       "      <td>0.0</td>\n",
       "      <td>81</td>\n",
       "      <td>13</td>\n",
       "      <td>25.0</td>\n",
       "      <td>99.81</td>\n",
       "      <td>Cloudy</td>\n",
       "    </tr>\n",
       "    <tr>\n",
       "      <th>72</th>\n",
       "      <td>1/4/2012 0:00</td>\n",
       "      <td>-17.5</td>\n",
       "      <td>-24.2</td>\n",
       "      <td>56</td>\n",
       "      <td>13</td>\n",
       "      <td>25.0</td>\n",
       "      <td>101.88</td>\n",
       "      <td>Mostly Cloudy</td>\n",
       "    </tr>\n",
       "    <tr>\n",
       "      <th>75</th>\n",
       "      <td>1/4/2012 3:00</td>\n",
       "      <td>-18.5</td>\n",
       "      <td>-24.6</td>\n",
       "      <td>59</td>\n",
       "      <td>13</td>\n",
       "      <td>25.0</td>\n",
       "      <td>101.88</td>\n",
       "      <td>Mainly Clear</td>\n",
       "    </tr>\n",
       "    <tr>\n",
       "      <th>...</th>\n",
       "      <td>...</td>\n",
       "      <td>...</td>\n",
       "      <td>...</td>\n",
       "      <td>...</td>\n",
       "      <td>...</td>\n",
       "      <td>...</td>\n",
       "      <td>...</td>\n",
       "      <td>...</td>\n",
       "    </tr>\n",
       "    <tr>\n",
       "      <th>8712</th>\n",
       "      <td>12/29/2012 0:00</td>\n",
       "      <td>-11.6</td>\n",
       "      <td>-13.5</td>\n",
       "      <td>86</td>\n",
       "      <td>13</td>\n",
       "      <td>25.0</td>\n",
       "      <td>101.35</td>\n",
       "      <td>Mainly Clear</td>\n",
       "    </tr>\n",
       "    <tr>\n",
       "      <th>8714</th>\n",
       "      <td>12/29/2012 2:00</td>\n",
       "      <td>-11.8</td>\n",
       "      <td>-13.1</td>\n",
       "      <td>90</td>\n",
       "      <td>13</td>\n",
       "      <td>25.0</td>\n",
       "      <td>101.33</td>\n",
       "      <td>Clear</td>\n",
       "    </tr>\n",
       "    <tr>\n",
       "      <th>8736</th>\n",
       "      <td>12/30/2012 0:00</td>\n",
       "      <td>-9.6</td>\n",
       "      <td>-11.3</td>\n",
       "      <td>87</td>\n",
       "      <td>13</td>\n",
       "      <td>25.0</td>\n",
       "      <td>100.23</td>\n",
       "      <td>Snow,Fog</td>\n",
       "    </tr>\n",
       "    <tr>\n",
       "      <th>8740</th>\n",
       "      <td>12/30/2012 4:00</td>\n",
       "      <td>-9.3</td>\n",
       "      <td>-10.6</td>\n",
       "      <td>90</td>\n",
       "      <td>13</td>\n",
       "      <td>25.0</td>\n",
       "      <td>100.28</td>\n",
       "      <td>Snow,Fog</td>\n",
       "    </tr>\n",
       "    <tr>\n",
       "      <th>8776</th>\n",
       "      <td>12/31/2012 16:00</td>\n",
       "      <td>-1.4</td>\n",
       "      <td>-4.0</td>\n",
       "      <td>82</td>\n",
       "      <td>13</td>\n",
       "      <td>25.0</td>\n",
       "      <td>100.40</td>\n",
       "      <td>Snow</td>\n",
       "    </tr>\n",
       "  </tbody>\n",
       "</table>\n",
       "<p>735 rows × 8 columns</p>\n",
       "</div>"
      ],
      "text/plain": [
       "             Date/Time  Temp_C  Dew Point Temp_C  Rel Hum_%  Wind Speed_km/h  \\\n",
       "13      1/1/2012 13:00     0.2              -1.7         87               13   \n",
       "16      1/1/2012 16:00     2.6              -0.2         82               13   \n",
       "17      1/1/2012 17:00     3.0               0.0         81               13   \n",
       "72       1/4/2012 0:00   -17.5             -24.2         56               13   \n",
       "75       1/4/2012 3:00   -18.5             -24.6         59               13   \n",
       "...                ...     ...               ...        ...              ...   \n",
       "8712   12/29/2012 0:00   -11.6             -13.5         86               13   \n",
       "8714   12/29/2012 2:00   -11.8             -13.1         90               13   \n",
       "8736   12/30/2012 0:00    -9.6             -11.3         87               13   \n",
       "8740   12/30/2012 4:00    -9.3             -10.6         90               13   \n",
       "8776  12/31/2012 16:00    -1.4              -4.0         82               13   \n",
       "\n",
       "      Visibility_km  Press_kPa        Weather  \n",
       "13             25.0     100.58            Fog  \n",
       "16             25.0      99.93  Mostly Cloudy  \n",
       "17             25.0      99.81         Cloudy  \n",
       "72             25.0     101.88  Mostly Cloudy  \n",
       "75             25.0     101.88   Mainly Clear  \n",
       "...             ...        ...            ...  \n",
       "8712           25.0     101.35   Mainly Clear  \n",
       "8714           25.0     101.33          Clear  \n",
       "8736           25.0     100.23       Snow,Fog  \n",
       "8740           25.0     100.28       Snow,Fog  \n",
       "8776           25.0     100.40           Snow  \n",
       "\n",
       "[735 rows x 8 columns]"
      ]
     },
     "execution_count": 32,
     "metadata": {},
     "output_type": "execute_result"
    }
   ],
   "source": [
    "df[df[\"Wind Speed_km/h\"]==13]"
   ]
  },
  {
   "cell_type": "code",
   "execution_count": 33,
   "id": "3e71e5ea",
   "metadata": {},
   "outputs": [
    {
     "data": {
      "text/plain": [
       "array(['Fog', 'Freezing Drizzle,Fog', 'Mostly Cloudy', 'Cloudy', 'Rain',\n",
       "       'Rain Showers', 'Mainly Clear', 'Snow Showers', 'Snow', 'Clear',\n",
       "       'Freezing Rain,Fog', 'Freezing Rain', 'Freezing Drizzle',\n",
       "       'Rain,Snow', 'Moderate Snow', 'Freezing Drizzle,Snow',\n",
       "       'Freezing Rain,Snow Grains', 'Snow,Blowing Snow', 'Freezing Fog',\n",
       "       'Haze', 'Rain,Fog', 'Drizzle,Fog', 'Drizzle',\n",
       "       'Freezing Drizzle,Haze', 'Freezing Rain,Haze', 'Snow,Haze',\n",
       "       'Snow,Fog', 'Snow,Ice Pellets', 'Rain,Haze', 'Thunderstorms,Rain',\n",
       "       'Thunderstorms,Rain Showers', 'Thunderstorms,Heavy Rain Showers',\n",
       "       'Thunderstorms,Rain Showers,Fog', 'Thunderstorms',\n",
       "       'Thunderstorms,Rain,Fog',\n",
       "       'Thunderstorms,Moderate Rain Showers,Fog', 'Rain Showers,Fog',\n",
       "       'Rain Showers,Snow Showers', 'Snow Pellets', 'Rain,Snow,Fog',\n",
       "       'Moderate Rain,Fog', 'Freezing Rain,Ice Pellets,Fog',\n",
       "       'Drizzle,Ice Pellets,Fog', 'Drizzle,Snow', 'Rain,Ice Pellets',\n",
       "       'Drizzle,Snow,Fog', 'Rain,Snow Grains', 'Rain,Snow,Ice Pellets',\n",
       "       'Snow Showers,Fog', 'Moderate Snow,Blowing Snow'], dtype=object)"
      ]
     },
     "execution_count": 33,
     "metadata": {},
     "output_type": "execute_result"
    }
   ],
   "source": [
    "df[\"Weather\"].unique()"
   ]
  },
  {
   "cell_type": "code",
   "execution_count": 34,
   "id": "45bcc862",
   "metadata": {},
   "outputs": [
    {
     "data": {
      "text/plain": [
       "50"
      ]
     },
     "execution_count": 34,
     "metadata": {},
     "output_type": "execute_result"
    }
   ],
   "source": [
    "df[\"Weather\"].nunique()"
   ]
  },
  {
   "cell_type": "code",
   "execution_count": 35,
   "id": "186a519f",
   "metadata": {},
   "outputs": [
    {
     "data": {
      "text/html": [
       "<div>\n",
       "<style scoped>\n",
       "    .dataframe tbody tr th:only-of-type {\n",
       "        vertical-align: middle;\n",
       "    }\n",
       "\n",
       "    .dataframe tbody tr th {\n",
       "        vertical-align: top;\n",
       "    }\n",
       "\n",
       "    .dataframe thead th {\n",
       "        text-align: right;\n",
       "    }\n",
       "</style>\n",
       "<table border=\"1\" class=\"dataframe\">\n",
       "  <thead>\n",
       "    <tr style=\"text-align: right;\">\n",
       "      <th></th>\n",
       "      <th>Date/Time</th>\n",
       "      <th>Temp_C</th>\n",
       "      <th>Dew Point Temp_C</th>\n",
       "      <th>Rel Hum_%</th>\n",
       "      <th>Wind Speed_km/h</th>\n",
       "      <th>Visibility_km</th>\n",
       "      <th>Press_kPa</th>\n",
       "      <th>Weather</th>\n",
       "    </tr>\n",
       "  </thead>\n",
       "  <tbody>\n",
       "    <tr>\n",
       "      <th>67</th>\n",
       "      <td>1/3/2012 19:00</td>\n",
       "      <td>-16.9</td>\n",
       "      <td>-24.8</td>\n",
       "      <td>50</td>\n",
       "      <td>24</td>\n",
       "      <td>25.0</td>\n",
       "      <td>101.74</td>\n",
       "      <td>Clear</td>\n",
       "    </tr>\n",
       "    <tr>\n",
       "      <th>114</th>\n",
       "      <td>1/5/2012 18:00</td>\n",
       "      <td>-7.1</td>\n",
       "      <td>-14.4</td>\n",
       "      <td>56</td>\n",
       "      <td>11</td>\n",
       "      <td>25.0</td>\n",
       "      <td>100.71</td>\n",
       "      <td>Clear</td>\n",
       "    </tr>\n",
       "    <tr>\n",
       "      <th>115</th>\n",
       "      <td>1/5/2012 19:00</td>\n",
       "      <td>-9.2</td>\n",
       "      <td>-15.4</td>\n",
       "      <td>61</td>\n",
       "      <td>7</td>\n",
       "      <td>25.0</td>\n",
       "      <td>100.80</td>\n",
       "      <td>Clear</td>\n",
       "    </tr>\n",
       "    <tr>\n",
       "      <th>116</th>\n",
       "      <td>1/5/2012 20:00</td>\n",
       "      <td>-9.8</td>\n",
       "      <td>-15.7</td>\n",
       "      <td>62</td>\n",
       "      <td>9</td>\n",
       "      <td>25.0</td>\n",
       "      <td>100.83</td>\n",
       "      <td>Clear</td>\n",
       "    </tr>\n",
       "    <tr>\n",
       "      <th>117</th>\n",
       "      <td>1/5/2012 21:00</td>\n",
       "      <td>-9.0</td>\n",
       "      <td>-14.8</td>\n",
       "      <td>63</td>\n",
       "      <td>13</td>\n",
       "      <td>25.0</td>\n",
       "      <td>100.83</td>\n",
       "      <td>Clear</td>\n",
       "    </tr>\n",
       "    <tr>\n",
       "      <th>...</th>\n",
       "      <td>...</td>\n",
       "      <td>...</td>\n",
       "      <td>...</td>\n",
       "      <td>...</td>\n",
       "      <td>...</td>\n",
       "      <td>...</td>\n",
       "      <td>...</td>\n",
       "      <td>...</td>\n",
       "    </tr>\n",
       "    <tr>\n",
       "      <th>8646</th>\n",
       "      <td>12/26/2012 6:00</td>\n",
       "      <td>-13.4</td>\n",
       "      <td>-14.8</td>\n",
       "      <td>89</td>\n",
       "      <td>4</td>\n",
       "      <td>25.0</td>\n",
       "      <td>102.47</td>\n",
       "      <td>Clear</td>\n",
       "    </tr>\n",
       "    <tr>\n",
       "      <th>8698</th>\n",
       "      <td>12/28/2012 10:00</td>\n",
       "      <td>-6.1</td>\n",
       "      <td>-8.6</td>\n",
       "      <td>82</td>\n",
       "      <td>19</td>\n",
       "      <td>24.1</td>\n",
       "      <td>101.27</td>\n",
       "      <td>Clear</td>\n",
       "    </tr>\n",
       "    <tr>\n",
       "      <th>8713</th>\n",
       "      <td>12/29/2012 1:00</td>\n",
       "      <td>-11.9</td>\n",
       "      <td>-13.6</td>\n",
       "      <td>87</td>\n",
       "      <td>11</td>\n",
       "      <td>25.0</td>\n",
       "      <td>101.31</td>\n",
       "      <td>Clear</td>\n",
       "    </tr>\n",
       "    <tr>\n",
       "      <th>8714</th>\n",
       "      <td>12/29/2012 2:00</td>\n",
       "      <td>-11.8</td>\n",
       "      <td>-13.1</td>\n",
       "      <td>90</td>\n",
       "      <td>13</td>\n",
       "      <td>25.0</td>\n",
       "      <td>101.33</td>\n",
       "      <td>Clear</td>\n",
       "    </tr>\n",
       "    <tr>\n",
       "      <th>8756</th>\n",
       "      <td>12/30/2012 20:00</td>\n",
       "      <td>-13.8</td>\n",
       "      <td>-16.5</td>\n",
       "      <td>80</td>\n",
       "      <td>24</td>\n",
       "      <td>25.0</td>\n",
       "      <td>101.52</td>\n",
       "      <td>Clear</td>\n",
       "    </tr>\n",
       "  </tbody>\n",
       "</table>\n",
       "<p>1326 rows × 8 columns</p>\n",
       "</div>"
      ],
      "text/plain": [
       "             Date/Time  Temp_C  Dew Point Temp_C  Rel Hum_%  Wind Speed_km/h  \\\n",
       "67      1/3/2012 19:00   -16.9             -24.8         50               24   \n",
       "114     1/5/2012 18:00    -7.1             -14.4         56               11   \n",
       "115     1/5/2012 19:00    -9.2             -15.4         61                7   \n",
       "116     1/5/2012 20:00    -9.8             -15.7         62                9   \n",
       "117     1/5/2012 21:00    -9.0             -14.8         63               13   \n",
       "...                ...     ...               ...        ...              ...   \n",
       "8646   12/26/2012 6:00   -13.4             -14.8         89                4   \n",
       "8698  12/28/2012 10:00    -6.1              -8.6         82               19   \n",
       "8713   12/29/2012 1:00   -11.9             -13.6         87               11   \n",
       "8714   12/29/2012 2:00   -11.8             -13.1         90               13   \n",
       "8756  12/30/2012 20:00   -13.8             -16.5         80               24   \n",
       "\n",
       "      Visibility_km  Press_kPa Weather  \n",
       "67             25.0     101.74   Clear  \n",
       "114            25.0     100.71   Clear  \n",
       "115            25.0     100.80   Clear  \n",
       "116            25.0     100.83   Clear  \n",
       "117            25.0     100.83   Clear  \n",
       "...             ...        ...     ...  \n",
       "8646           25.0     102.47   Clear  \n",
       "8698           24.1     101.27   Clear  \n",
       "8713           25.0     101.31   Clear  \n",
       "8714           25.0     101.33   Clear  \n",
       "8756           25.0     101.52   Clear  \n",
       "\n",
       "[1326 rows x 8 columns]"
      ]
     },
     "execution_count": 35,
     "metadata": {},
     "output_type": "execute_result"
    }
   ],
   "source": [
    "df.groupby(\"Weather\").get_group(\"Clear\")"
   ]
  },
  {
   "cell_type": "code",
   "execution_count": 36,
   "id": "41595ea5",
   "metadata": {},
   "outputs": [
    {
     "data": {
      "text/html": [
       "<div>\n",
       "<style scoped>\n",
       "    .dataframe tbody tr th:only-of-type {\n",
       "        vertical-align: middle;\n",
       "    }\n",
       "\n",
       "    .dataframe tbody tr th {\n",
       "        vertical-align: top;\n",
       "    }\n",
       "\n",
       "    .dataframe thead th {\n",
       "        text-align: right;\n",
       "    }\n",
       "</style>\n",
       "<table border=\"1\" class=\"dataframe\">\n",
       "  <thead>\n",
       "    <tr style=\"text-align: right;\">\n",
       "      <th></th>\n",
       "      <th>Date/Time</th>\n",
       "      <th>Temp_C</th>\n",
       "      <th>Dew Point Temp_C</th>\n",
       "      <th>Rel Hum_%</th>\n",
       "      <th>Wind Speed_km/h</th>\n",
       "      <th>Visibility_km</th>\n",
       "      <th>Press_kPa</th>\n",
       "      <th>Weather</th>\n",
       "    </tr>\n",
       "  </thead>\n",
       "  <tbody>\n",
       "    <tr>\n",
       "      <th>55</th>\n",
       "      <td>1/3/2012 7:00</td>\n",
       "      <td>-14.0</td>\n",
       "      <td>-19.5</td>\n",
       "      <td>63</td>\n",
       "      <td>19</td>\n",
       "      <td>25.0</td>\n",
       "      <td>100.95</td>\n",
       "      <td>Snow</td>\n",
       "    </tr>\n",
       "    <tr>\n",
       "      <th>84</th>\n",
       "      <td>1/4/2012 12:00</td>\n",
       "      <td>-13.7</td>\n",
       "      <td>-21.7</td>\n",
       "      <td>51</td>\n",
       "      <td>11</td>\n",
       "      <td>24.1</td>\n",
       "      <td>101.25</td>\n",
       "      <td>Snow</td>\n",
       "    </tr>\n",
       "    <tr>\n",
       "      <th>86</th>\n",
       "      <td>1/4/2012 14:00</td>\n",
       "      <td>-11.3</td>\n",
       "      <td>-19.0</td>\n",
       "      <td>53</td>\n",
       "      <td>7</td>\n",
       "      <td>25.0</td>\n",
       "      <td>100.97</td>\n",
       "      <td>Snow</td>\n",
       "    </tr>\n",
       "    <tr>\n",
       "      <th>87</th>\n",
       "      <td>1/4/2012 15:00</td>\n",
       "      <td>-10.2</td>\n",
       "      <td>-16.3</td>\n",
       "      <td>61</td>\n",
       "      <td>11</td>\n",
       "      <td>25.0</td>\n",
       "      <td>100.89</td>\n",
       "      <td>Snow</td>\n",
       "    </tr>\n",
       "    <tr>\n",
       "      <th>88</th>\n",
       "      <td>1/4/2012 16:00</td>\n",
       "      <td>-9.4</td>\n",
       "      <td>-15.5</td>\n",
       "      <td>61</td>\n",
       "      <td>13</td>\n",
       "      <td>25.0</td>\n",
       "      <td>100.79</td>\n",
       "      <td>Snow</td>\n",
       "    </tr>\n",
       "  </tbody>\n",
       "</table>\n",
       "</div>"
      ],
      "text/plain": [
       "         Date/Time  Temp_C  Dew Point Temp_C  Rel Hum_%  Wind Speed_km/h  \\\n",
       "55   1/3/2012 7:00   -14.0             -19.5         63               19   \n",
       "84  1/4/2012 12:00   -13.7             -21.7         51               11   \n",
       "86  1/4/2012 14:00   -11.3             -19.0         53                7   \n",
       "87  1/4/2012 15:00   -10.2             -16.3         61               11   \n",
       "88  1/4/2012 16:00    -9.4             -15.5         61               13   \n",
       "\n",
       "    Visibility_km  Press_kPa Weather  \n",
       "55           25.0     100.95    Snow  \n",
       "84           24.1     101.25    Snow  \n",
       "86           25.0     100.97    Snow  \n",
       "87           25.0     100.89    Snow  \n",
       "88           25.0     100.79    Snow  "
      ]
     },
     "execution_count": 36,
     "metadata": {},
     "output_type": "execute_result"
    }
   ],
   "source": [
    "df.groupby(\"Weather\").get_group(\"Snow\").head(5)"
   ]
  },
  {
   "cell_type": "code",
   "execution_count": 37,
   "id": "7e1e0ed9",
   "metadata": {},
   "outputs": [
    {
     "data": {
      "text/plain": [
       "Mainly Clear                               2106\n",
       "Mostly Cloudy                              2069\n",
       "Cloudy                                     1728\n",
       "Clear                                      1326\n",
       "Snow                                        390\n",
       "Rain                                        306\n",
       "Rain Showers                                188\n",
       "Fog                                         150\n",
       "Rain,Fog                                    116\n",
       "Drizzle,Fog                                  80\n",
       "Snow Showers                                 60\n",
       "Drizzle                                      41\n",
       "Snow,Fog                                     37\n",
       "Snow,Blowing Snow                            19\n",
       "Rain,Snow                                    18\n",
       "Thunderstorms,Rain Showers                   16\n",
       "Haze                                         16\n",
       "Drizzle,Snow,Fog                             15\n",
       "Freezing Rain                                14\n",
       "Freezing Drizzle,Snow                        11\n",
       "Freezing Drizzle                              7\n",
       "Freezing Drizzle,Fog                          6\n",
       "Snow,Ice Pellets                              6\n",
       "Snow,Haze                                     5\n",
       "Moderate Snow                                 4\n",
       "Snow Showers,Fog                              4\n",
       "Rain,Snow,Ice Pellets                         4\n",
       "Freezing Rain,Fog                             4\n",
       "Freezing Fog                                  4\n",
       "Thunderstorms,Rain Showers,Fog                3\n",
       "Thunderstorms,Rain                            3\n",
       "Freezing Drizzle,Haze                         3\n",
       "Rain,Haze                                     3\n",
       "Freezing Rain,Haze                            2\n",
       "Drizzle,Snow                                  2\n",
       "Moderate Snow,Blowing Snow                    2\n",
       "Rain Showers,Snow Showers                     2\n",
       "Thunderstorms                                 2\n",
       "Thunderstorms,Rain,Fog                        1\n",
       "Drizzle,Ice Pellets,Fog                       1\n",
       "Snow Pellets                                  1\n",
       "Rain Showers,Fog                              1\n",
       "Freezing Rain,Snow Grains                     1\n",
       "Thunderstorms,Moderate Rain Showers,Fog       1\n",
       "Rain,Ice Pellets                              1\n",
       "Moderate Rain,Fog                             1\n",
       "Thunderstorms,Heavy Rain Showers              1\n",
       "Freezing Rain,Ice Pellets,Fog                 1\n",
       "Rain,Snow,Fog                                 1\n",
       "Rain,Snow Grains                              1\n",
       "Name: Weather, dtype: int64"
      ]
     },
     "execution_count": 37,
     "metadata": {},
     "output_type": "execute_result"
    }
   ],
   "source": [
    "df[\"Weather\"].value_counts()"
   ]
  },
  {
   "cell_type": "code",
   "execution_count": 38,
   "id": "64ea4acf",
   "metadata": {},
   "outputs": [
    {
     "data": {
      "text/plain": [
       "Index(['Date/Time', 'Temp_C', 'Dew Point Temp_C', 'Rel Hum_%',\n",
       "       'Wind Speed_km/h', 'Visibility_km', 'Press_kPa', 'Weather'],\n",
       "      dtype='object')"
      ]
     },
     "execution_count": 38,
     "metadata": {},
     "output_type": "execute_result"
    }
   ],
   "source": [
    "df.columns"
   ]
  },
  {
   "cell_type": "code",
   "execution_count": 39,
   "id": "89b47d82",
   "metadata": {},
   "outputs": [
    {
     "data": {
      "text/plain": [
       "24.80317622950909"
      ]
     },
     "execution_count": 39,
     "metadata": {},
     "output_type": "execute_result"
    }
   ],
   "source": [
    "df[\"Visibility_km\"].mean()"
   ]
  },
  {
   "cell_type": "code",
   "execution_count": 40,
   "id": "bf59fbe7",
   "metadata": {},
   "outputs": [
    {
     "data": {
      "text/html": [
       "<div>\n",
       "<style scoped>\n",
       "    .dataframe tbody tr th:only-of-type {\n",
       "        vertical-align: middle;\n",
       "    }\n",
       "\n",
       "    .dataframe tbody tr th {\n",
       "        vertical-align: top;\n",
       "    }\n",
       "\n",
       "    .dataframe thead th {\n",
       "        text-align: right;\n",
       "    }\n",
       "</style>\n",
       "<table border=\"1\" class=\"dataframe\">\n",
       "  <thead>\n",
       "    <tr style=\"text-align: right;\">\n",
       "      <th></th>\n",
       "      <th>Date/Time</th>\n",
       "      <th>Temp_C</th>\n",
       "      <th>Dew Point Temp_C</th>\n",
       "      <th>Rel Hum_%</th>\n",
       "      <th>Wind Speed_km/h</th>\n",
       "      <th>Visibility_km</th>\n",
       "      <th>Press_kPa</th>\n",
       "      <th>Weather</th>\n",
       "    </tr>\n",
       "  </thead>\n",
       "  <tbody>\n",
       "    <tr>\n",
       "      <th>0</th>\n",
       "      <td>1/1/2012 0:00</td>\n",
       "      <td>-1.8</td>\n",
       "      <td>-3.9</td>\n",
       "      <td>86</td>\n",
       "      <td>4</td>\n",
       "      <td>25.0</td>\n",
       "      <td>101.24</td>\n",
       "      <td>Fog</td>\n",
       "    </tr>\n",
       "    <tr>\n",
       "      <th>1</th>\n",
       "      <td>1/1/2012 1:00</td>\n",
       "      <td>-1.8</td>\n",
       "      <td>-3.7</td>\n",
       "      <td>87</td>\n",
       "      <td>4</td>\n",
       "      <td>25.0</td>\n",
       "      <td>101.24</td>\n",
       "      <td>Fog</td>\n",
       "    </tr>\n",
       "    <tr>\n",
       "      <th>2</th>\n",
       "      <td>1/1/2012 2:00</td>\n",
       "      <td>-1.8</td>\n",
       "      <td>-3.4</td>\n",
       "      <td>89</td>\n",
       "      <td>7</td>\n",
       "      <td>25.0</td>\n",
       "      <td>101.26</td>\n",
       "      <td>Freezing Drizzle,Fog</td>\n",
       "    </tr>\n",
       "    <tr>\n",
       "      <th>3</th>\n",
       "      <td>1/1/2012 3:00</td>\n",
       "      <td>-1.5</td>\n",
       "      <td>-3.2</td>\n",
       "      <td>88</td>\n",
       "      <td>6</td>\n",
       "      <td>25.0</td>\n",
       "      <td>101.27</td>\n",
       "      <td>Freezing Drizzle,Fog</td>\n",
       "    </tr>\n",
       "    <tr>\n",
       "      <th>4</th>\n",
       "      <td>1/1/2012 4:00</td>\n",
       "      <td>-1.5</td>\n",
       "      <td>-3.3</td>\n",
       "      <td>88</td>\n",
       "      <td>7</td>\n",
       "      <td>25.0</td>\n",
       "      <td>101.23</td>\n",
       "      <td>Fog</td>\n",
       "    </tr>\n",
       "  </tbody>\n",
       "</table>\n",
       "</div>"
      ],
      "text/plain": [
       "       Date/Time  Temp_C  Dew Point Temp_C  Rel Hum_%  Wind Speed_km/h  \\\n",
       "0  1/1/2012 0:00    -1.8              -3.9         86                4   \n",
       "1  1/1/2012 1:00    -1.8              -3.7         87                4   \n",
       "2  1/1/2012 2:00    -1.8              -3.4         89                7   \n",
       "3  1/1/2012 3:00    -1.5              -3.2         88                6   \n",
       "4  1/1/2012 4:00    -1.5              -3.3         88                7   \n",
       "\n",
       "   Visibility_km  Press_kPa               Weather  \n",
       "0           25.0     101.24                   Fog  \n",
       "1           25.0     101.24                   Fog  \n",
       "2           25.0     101.26  Freezing Drizzle,Fog  \n",
       "3           25.0     101.27  Freezing Drizzle,Fog  \n",
       "4           25.0     101.23                   Fog  "
      ]
     },
     "execution_count": 40,
     "metadata": {},
     "output_type": "execute_result"
    }
   ],
   "source": [
    "df[df[\"Visibility_km\"]==25].head(5)"
   ]
  },
  {
   "cell_type": "code",
   "execution_count": 41,
   "id": "df1691d0",
   "metadata": {},
   "outputs": [
    {
     "data": {
      "text/plain": [
       "0.8440047459486474"
      ]
     },
     "execution_count": 41,
     "metadata": {},
     "output_type": "execute_result"
    }
   ],
   "source": [
    "df[\"Press_kPa\"].std()"
   ]
  },
  {
   "cell_type": "code",
   "execution_count": 42,
   "id": "091f86ee",
   "metadata": {},
   "outputs": [
    {
     "data": {
      "text/plain": [
       "103.65"
      ]
     },
     "execution_count": 42,
     "metadata": {},
     "output_type": "execute_result"
    }
   ],
   "source": [
    "df[\"Press_kPa\"].max()"
   ]
  },
  {
   "cell_type": "code",
   "execution_count": 43,
   "id": "6a2d49a3",
   "metadata": {},
   "outputs": [
    {
     "data": {
      "text/plain": [
       "97.52"
      ]
     },
     "execution_count": 43,
     "metadata": {},
     "output_type": "execute_result"
    }
   ],
   "source": [
    "df[\"Press_kPa\"].min()"
   ]
  },
  {
   "cell_type": "code",
   "execution_count": 44,
   "id": "7dd204e6",
   "metadata": {},
   "outputs": [
    {
     "data": {
      "text/plain": [
       "0       False\n",
       "1       False\n",
       "2       False\n",
       "3       False\n",
       "4       False\n",
       "        ...  \n",
       "8779    False\n",
       "8780    False\n",
       "8781    False\n",
       "8782    False\n",
       "8783    False\n",
       "Name: Press_kPa, Length: 8784, dtype: bool"
      ]
     },
     "execution_count": 44,
     "metadata": {},
     "output_type": "execute_result"
    }
   ],
   "source": [
    "(df[\"Press_kPa\"]==103) & (df[\"Press_kPa\"]==97)"
   ]
  },
  {
   "cell_type": "code",
   "execution_count": 45,
   "id": "a1f8b41b",
   "metadata": {},
   "outputs": [
    {
     "data": {
      "text/plain": [
       "0       False\n",
       "1       False\n",
       "2       False\n",
       "3       False\n",
       "4       False\n",
       "        ...  \n",
       "8779    False\n",
       "8780    False\n",
       "8781    False\n",
       "8782    False\n",
       "8783    False\n",
       "Name: Press_kPa, Length: 8784, dtype: bool"
      ]
     },
     "execution_count": 45,
     "metadata": {},
     "output_type": "execute_result"
    }
   ],
   "source": [
    "(df[\"Press_kPa\"]==103) | (df[\"Press_kPa\"]==97)"
   ]
  },
  {
   "cell_type": "code",
   "execution_count": 46,
   "id": "c3fcd779",
   "metadata": {},
   "outputs": [
    {
     "data": {
      "text/html": [
       "<div>\n",
       "<style scoped>\n",
       "    .dataframe tbody tr th:only-of-type {\n",
       "        vertical-align: middle;\n",
       "    }\n",
       "\n",
       "    .dataframe tbody tr th {\n",
       "        vertical-align: top;\n",
       "    }\n",
       "\n",
       "    .dataframe thead th {\n",
       "        text-align: right;\n",
       "    }\n",
       "</style>\n",
       "<table border=\"1\" class=\"dataframe\">\n",
       "  <thead>\n",
       "    <tr style=\"text-align: right;\">\n",
       "      <th></th>\n",
       "      <th>Date/Time</th>\n",
       "      <th>Temp_C</th>\n",
       "      <th>Dew Point Temp_C</th>\n",
       "      <th>Rel Hum_%</th>\n",
       "      <th>Wind Speed_km/h</th>\n",
       "      <th>Visibility_km</th>\n",
       "      <th>Press_kPa</th>\n",
       "      <th>Weather</th>\n",
       "    </tr>\n",
       "  </thead>\n",
       "  <tbody>\n",
       "    <tr>\n",
       "      <th>1567</th>\n",
       "      <td>3/6/2012 7:00</td>\n",
       "      <td>-14.8</td>\n",
       "      <td>-20.7</td>\n",
       "      <td>61</td>\n",
       "      <td>11</td>\n",
       "      <td>25.0</td>\n",
       "      <td>103.0</td>\n",
       "      <td>Clear</td>\n",
       "    </tr>\n",
       "    <tr>\n",
       "      <th>7658</th>\n",
       "      <td>11/15/2012 2:00</td>\n",
       "      <td>-2.3</td>\n",
       "      <td>-5.1</td>\n",
       "      <td>81</td>\n",
       "      <td>13</td>\n",
       "      <td>25.0</td>\n",
       "      <td>103.0</td>\n",
       "      <td>Mainly Clear</td>\n",
       "    </tr>\n",
       "    <tr>\n",
       "      <th>7660</th>\n",
       "      <td>11/15/2012 4:00</td>\n",
       "      <td>-3.6</td>\n",
       "      <td>-6.3</td>\n",
       "      <td>82</td>\n",
       "      <td>9</td>\n",
       "      <td>25.0</td>\n",
       "      <td>103.0</td>\n",
       "      <td>Clear</td>\n",
       "    </tr>\n",
       "  </tbody>\n",
       "</table>\n",
       "</div>"
      ],
      "text/plain": [
       "            Date/Time  Temp_C  Dew Point Temp_C  Rel Hum_%  Wind Speed_km/h  \\\n",
       "1567    3/6/2012 7:00   -14.8             -20.7         61               11   \n",
       "7658  11/15/2012 2:00    -2.3              -5.1         81               13   \n",
       "7660  11/15/2012 4:00    -3.6              -6.3         82                9   \n",
       "\n",
       "      Visibility_km  Press_kPa       Weather  \n",
       "1567           25.0      103.0         Clear  \n",
       "7658           25.0      103.0  Mainly Clear  \n",
       "7660           25.0      103.0         Clear  "
      ]
     },
     "execution_count": 46,
     "metadata": {},
     "output_type": "execute_result"
    }
   ],
   "source": [
    "df[df[\"Press_kPa\"]==103]"
   ]
  },
  {
   "cell_type": "code",
   "execution_count": 47,
   "id": "2f1f60e3",
   "metadata": {},
   "outputs": [
    {
     "data": {
      "text/html": [
       "<div>\n",
       "<style scoped>\n",
       "    .dataframe tbody tr th:only-of-type {\n",
       "        vertical-align: middle;\n",
       "    }\n",
       "\n",
       "    .dataframe tbody tr th {\n",
       "        vertical-align: top;\n",
       "    }\n",
       "\n",
       "    .dataframe thead th {\n",
       "        text-align: right;\n",
       "    }\n",
       "</style>\n",
       "<table border=\"1\" class=\"dataframe\">\n",
       "  <thead>\n",
       "    <tr style=\"text-align: right;\">\n",
       "      <th></th>\n",
       "      <th>Temp_C</th>\n",
       "      <th>Dew Point Temp_C</th>\n",
       "      <th>Rel Hum_%</th>\n",
       "      <th>Wind Speed_km/h</th>\n",
       "      <th>Visibility_km</th>\n",
       "      <th>Press_kPa</th>\n",
       "    </tr>\n",
       "    <tr>\n",
       "      <th>Weather</th>\n",
       "      <th></th>\n",
       "      <th></th>\n",
       "      <th></th>\n",
       "      <th></th>\n",
       "      <th></th>\n",
       "      <th></th>\n",
       "    </tr>\n",
       "  </thead>\n",
       "  <tbody>\n",
       "    <tr>\n",
       "      <th>Clear</th>\n",
       "      <td>6.825716</td>\n",
       "      <td>0.089367</td>\n",
       "      <td>64.497738</td>\n",
       "      <td>10.557315</td>\n",
       "      <td>24.922624</td>\n",
       "      <td>101.587443</td>\n",
       "    </tr>\n",
       "    <tr>\n",
       "      <th>Cloudy</th>\n",
       "      <td>7.970544</td>\n",
       "      <td>2.375810</td>\n",
       "      <td>69.592593</td>\n",
       "      <td>16.127315</td>\n",
       "      <td>24.697917</td>\n",
       "      <td>100.911441</td>\n",
       "    </tr>\n",
       "    <tr>\n",
       "      <th>Drizzle</th>\n",
       "      <td>7.353659</td>\n",
       "      <td>5.504878</td>\n",
       "      <td>88.243902</td>\n",
       "      <td>16.097561</td>\n",
       "      <td>24.692683</td>\n",
       "      <td>100.435366</td>\n",
       "    </tr>\n",
       "    <tr>\n",
       "      <th>Drizzle,Fog</th>\n",
       "      <td>8.067500</td>\n",
       "      <td>7.033750</td>\n",
       "      <td>93.275000</td>\n",
       "      <td>11.862500</td>\n",
       "      <td>25.000000</td>\n",
       "      <td>100.786625</td>\n",
       "    </tr>\n",
       "    <tr>\n",
       "      <th>Drizzle,Ice Pellets,Fog</th>\n",
       "      <td>0.400000</td>\n",
       "      <td>-0.700000</td>\n",
       "      <td>92.000000</td>\n",
       "      <td>20.000000</td>\n",
       "      <td>25.000000</td>\n",
       "      <td>100.790000</td>\n",
       "    </tr>\n",
       "    <tr>\n",
       "      <th>Drizzle,Snow</th>\n",
       "      <td>1.050000</td>\n",
       "      <td>0.150000</td>\n",
       "      <td>93.500000</td>\n",
       "      <td>14.000000</td>\n",
       "      <td>25.000000</td>\n",
       "      <td>100.890000</td>\n",
       "    </tr>\n",
       "    <tr>\n",
       "      <th>Drizzle,Snow,Fog</th>\n",
       "      <td>0.693333</td>\n",
       "      <td>0.120000</td>\n",
       "      <td>95.866667</td>\n",
       "      <td>15.533333</td>\n",
       "      <td>25.000000</td>\n",
       "      <td>99.281333</td>\n",
       "    </tr>\n",
       "    <tr>\n",
       "      <th>Fog</th>\n",
       "      <td>4.303333</td>\n",
       "      <td>3.159333</td>\n",
       "      <td>92.286667</td>\n",
       "      <td>7.946667</td>\n",
       "      <td>25.000000</td>\n",
       "      <td>101.184067</td>\n",
       "    </tr>\n",
       "    <tr>\n",
       "      <th>Freezing Drizzle</th>\n",
       "      <td>-5.657143</td>\n",
       "      <td>-8.000000</td>\n",
       "      <td>83.571429</td>\n",
       "      <td>16.571429</td>\n",
       "      <td>25.000000</td>\n",
       "      <td>100.202857</td>\n",
       "    </tr>\n",
       "    <tr>\n",
       "      <th>Freezing Drizzle,Fog</th>\n",
       "      <td>-2.533333</td>\n",
       "      <td>-4.183333</td>\n",
       "      <td>88.500000</td>\n",
       "      <td>17.000000</td>\n",
       "      <td>25.000000</td>\n",
       "      <td>100.441667</td>\n",
       "    </tr>\n",
       "    <tr>\n",
       "      <th>Freezing Drizzle,Haze</th>\n",
       "      <td>-5.433333</td>\n",
       "      <td>-8.000000</td>\n",
       "      <td>82.000000</td>\n",
       "      <td>10.333333</td>\n",
       "      <td>25.000000</td>\n",
       "      <td>100.316667</td>\n",
       "    </tr>\n",
       "    <tr>\n",
       "      <th>Freezing Drizzle,Snow</th>\n",
       "      <td>-5.109091</td>\n",
       "      <td>-7.072727</td>\n",
       "      <td>86.090909</td>\n",
       "      <td>16.272727</td>\n",
       "      <td>25.000000</td>\n",
       "      <td>100.520909</td>\n",
       "    </tr>\n",
       "    <tr>\n",
       "      <th>Freezing Fog</th>\n",
       "      <td>-7.575000</td>\n",
       "      <td>-9.250000</td>\n",
       "      <td>87.750000</td>\n",
       "      <td>4.750000</td>\n",
       "      <td>25.000000</td>\n",
       "      <td>102.320000</td>\n",
       "    </tr>\n",
       "    <tr>\n",
       "      <th>Freezing Rain</th>\n",
       "      <td>-3.885714</td>\n",
       "      <td>-6.078571</td>\n",
       "      <td>84.642857</td>\n",
       "      <td>19.214286</td>\n",
       "      <td>25.000000</td>\n",
       "      <td>99.647143</td>\n",
       "    </tr>\n",
       "    <tr>\n",
       "      <th>Freezing Rain,Fog</th>\n",
       "      <td>-2.225000</td>\n",
       "      <td>-3.750000</td>\n",
       "      <td>89.500000</td>\n",
       "      <td>15.500000</td>\n",
       "      <td>25.000000</td>\n",
       "      <td>99.945000</td>\n",
       "    </tr>\n",
       "    <tr>\n",
       "      <th>Freezing Rain,Haze</th>\n",
       "      <td>-4.900000</td>\n",
       "      <td>-7.450000</td>\n",
       "      <td>82.500000</td>\n",
       "      <td>7.500000</td>\n",
       "      <td>25.000000</td>\n",
       "      <td>100.375000</td>\n",
       "    </tr>\n",
       "    <tr>\n",
       "      <th>Freezing Rain,Ice Pellets,Fog</th>\n",
       "      <td>-2.600000</td>\n",
       "      <td>-3.700000</td>\n",
       "      <td>92.000000</td>\n",
       "      <td>28.000000</td>\n",
       "      <td>25.000000</td>\n",
       "      <td>100.950000</td>\n",
       "    </tr>\n",
       "    <tr>\n",
       "      <th>Freezing Rain,Snow Grains</th>\n",
       "      <td>-5.000000</td>\n",
       "      <td>-7.300000</td>\n",
       "      <td>84.000000</td>\n",
       "      <td>32.000000</td>\n",
       "      <td>25.000000</td>\n",
       "      <td>98.560000</td>\n",
       "    </tr>\n",
       "    <tr>\n",
       "      <th>Haze</th>\n",
       "      <td>-0.200000</td>\n",
       "      <td>-2.975000</td>\n",
       "      <td>81.625000</td>\n",
       "      <td>10.437500</td>\n",
       "      <td>25.000000</td>\n",
       "      <td>101.482500</td>\n",
       "    </tr>\n",
       "    <tr>\n",
       "      <th>Mainly Clear</th>\n",
       "      <td>12.558927</td>\n",
       "      <td>4.581671</td>\n",
       "      <td>60.667142</td>\n",
       "      <td>14.144824</td>\n",
       "      <td>24.822222</td>\n",
       "      <td>101.248832</td>\n",
       "    </tr>\n",
       "    <tr>\n",
       "      <th>Moderate Rain,Fog</th>\n",
       "      <td>1.700000</td>\n",
       "      <td>0.800000</td>\n",
       "      <td>94.000000</td>\n",
       "      <td>17.000000</td>\n",
       "      <td>25.000000</td>\n",
       "      <td>99.980000</td>\n",
       "    </tr>\n",
       "    <tr>\n",
       "      <th>Moderate Snow</th>\n",
       "      <td>-5.525000</td>\n",
       "      <td>-7.250000</td>\n",
       "      <td>87.750000</td>\n",
       "      <td>33.750000</td>\n",
       "      <td>25.000000</td>\n",
       "      <td>100.275000</td>\n",
       "    </tr>\n",
       "    <tr>\n",
       "      <th>Moderate Snow,Blowing Snow</th>\n",
       "      <td>-5.450000</td>\n",
       "      <td>-6.500000</td>\n",
       "      <td>92.500000</td>\n",
       "      <td>40.000000</td>\n",
       "      <td>25.000000</td>\n",
       "      <td>100.570000</td>\n",
       "    </tr>\n",
       "    <tr>\n",
       "      <th>Mostly Cloudy</th>\n",
       "      <td>10.574287</td>\n",
       "      <td>3.131174</td>\n",
       "      <td>62.102465</td>\n",
       "      <td>15.813920</td>\n",
       "      <td>24.734219</td>\n",
       "      <td>101.025288</td>\n",
       "    </tr>\n",
       "    <tr>\n",
       "      <th>Rain</th>\n",
       "      <td>9.786275</td>\n",
       "      <td>7.042810</td>\n",
       "      <td>83.624183</td>\n",
       "      <td>19.254902</td>\n",
       "      <td>24.802941</td>\n",
       "      <td>100.233333</td>\n",
       "    </tr>\n",
       "    <tr>\n",
       "      <th>Rain Showers</th>\n",
       "      <td>13.722340</td>\n",
       "      <td>9.187766</td>\n",
       "      <td>75.159574</td>\n",
       "      <td>17.132979</td>\n",
       "      <td>24.664894</td>\n",
       "      <td>100.404043</td>\n",
       "    </tr>\n",
       "    <tr>\n",
       "      <th>Rain Showers,Fog</th>\n",
       "      <td>12.800000</td>\n",
       "      <td>12.100000</td>\n",
       "      <td>96.000000</td>\n",
       "      <td>13.000000</td>\n",
       "      <td>25.000000</td>\n",
       "      <td>99.830000</td>\n",
       "    </tr>\n",
       "    <tr>\n",
       "      <th>Rain Showers,Snow Showers</th>\n",
       "      <td>2.150000</td>\n",
       "      <td>-1.500000</td>\n",
       "      <td>76.500000</td>\n",
       "      <td>22.500000</td>\n",
       "      <td>24.550000</td>\n",
       "      <td>101.100000</td>\n",
       "    </tr>\n",
       "    <tr>\n",
       "      <th>Rain,Fog</th>\n",
       "      <td>8.273276</td>\n",
       "      <td>7.219828</td>\n",
       "      <td>93.189655</td>\n",
       "      <td>14.793103</td>\n",
       "      <td>25.000000</td>\n",
       "      <td>100.500862</td>\n",
       "    </tr>\n",
       "    <tr>\n",
       "      <th>Rain,Haze</th>\n",
       "      <td>4.633333</td>\n",
       "      <td>2.066667</td>\n",
       "      <td>83.333333</td>\n",
       "      <td>11.666667</td>\n",
       "      <td>25.000000</td>\n",
       "      <td>100.540000</td>\n",
       "    </tr>\n",
       "    <tr>\n",
       "      <th>Rain,Ice Pellets</th>\n",
       "      <td>0.600000</td>\n",
       "      <td>-0.600000</td>\n",
       "      <td>92.000000</td>\n",
       "      <td>24.000000</td>\n",
       "      <td>25.000000</td>\n",
       "      <td>100.120000</td>\n",
       "    </tr>\n",
       "    <tr>\n",
       "      <th>Rain,Snow</th>\n",
       "      <td>1.055556</td>\n",
       "      <td>-0.566667</td>\n",
       "      <td>89.000000</td>\n",
       "      <td>28.388889</td>\n",
       "      <td>25.000000</td>\n",
       "      <td>99.951111</td>\n",
       "    </tr>\n",
       "    <tr>\n",
       "      <th>Rain,Snow Grains</th>\n",
       "      <td>1.900000</td>\n",
       "      <td>-2.100000</td>\n",
       "      <td>75.000000</td>\n",
       "      <td>26.000000</td>\n",
       "      <td>25.000000</td>\n",
       "      <td>100.600000</td>\n",
       "    </tr>\n",
       "    <tr>\n",
       "      <th>Rain,Snow,Fog</th>\n",
       "      <td>0.800000</td>\n",
       "      <td>0.300000</td>\n",
       "      <td>96.000000</td>\n",
       "      <td>9.000000</td>\n",
       "      <td>25.000000</td>\n",
       "      <td>100.730000</td>\n",
       "    </tr>\n",
       "    <tr>\n",
       "      <th>Rain,Snow,Ice Pellets</th>\n",
       "      <td>1.100000</td>\n",
       "      <td>-0.175000</td>\n",
       "      <td>91.500000</td>\n",
       "      <td>23.250000</td>\n",
       "      <td>25.000000</td>\n",
       "      <td>100.105000</td>\n",
       "    </tr>\n",
       "    <tr>\n",
       "      <th>Snow</th>\n",
       "      <td>-4.524103</td>\n",
       "      <td>-7.623333</td>\n",
       "      <td>79.307692</td>\n",
       "      <td>20.038462</td>\n",
       "      <td>24.926154</td>\n",
       "      <td>100.536103</td>\n",
       "    </tr>\n",
       "    <tr>\n",
       "      <th>Snow Pellets</th>\n",
       "      <td>0.700000</td>\n",
       "      <td>-6.400000</td>\n",
       "      <td>59.000000</td>\n",
       "      <td>35.000000</td>\n",
       "      <td>25.000000</td>\n",
       "      <td>99.700000</td>\n",
       "    </tr>\n",
       "    <tr>\n",
       "      <th>Snow Showers</th>\n",
       "      <td>-3.506667</td>\n",
       "      <td>-7.866667</td>\n",
       "      <td>72.350000</td>\n",
       "      <td>19.233333</td>\n",
       "      <td>24.835000</td>\n",
       "      <td>100.963500</td>\n",
       "    </tr>\n",
       "    <tr>\n",
       "      <th>Snow Showers,Fog</th>\n",
       "      <td>-10.675000</td>\n",
       "      <td>-11.900000</td>\n",
       "      <td>90.750000</td>\n",
       "      <td>13.750000</td>\n",
       "      <td>25.000000</td>\n",
       "      <td>101.292500</td>\n",
       "    </tr>\n",
       "    <tr>\n",
       "      <th>Snow,Blowing Snow</th>\n",
       "      <td>-5.410526</td>\n",
       "      <td>-7.621053</td>\n",
       "      <td>84.473684</td>\n",
       "      <td>34.842105</td>\n",
       "      <td>25.000000</td>\n",
       "      <td>99.704737</td>\n",
       "    </tr>\n",
       "    <tr>\n",
       "      <th>Snow,Fog</th>\n",
       "      <td>-5.075676</td>\n",
       "      <td>-6.364865</td>\n",
       "      <td>90.675676</td>\n",
       "      <td>17.324324</td>\n",
       "      <td>25.000000</td>\n",
       "      <td>100.688649</td>\n",
       "    </tr>\n",
       "    <tr>\n",
       "      <th>Snow,Haze</th>\n",
       "      <td>-4.020000</td>\n",
       "      <td>-6.860000</td>\n",
       "      <td>80.600000</td>\n",
       "      <td>5.000000</td>\n",
       "      <td>25.000000</td>\n",
       "      <td>100.782000</td>\n",
       "    </tr>\n",
       "    <tr>\n",
       "      <th>Snow,Ice Pellets</th>\n",
       "      <td>-1.883333</td>\n",
       "      <td>-3.666667</td>\n",
       "      <td>87.666667</td>\n",
       "      <td>23.833333</td>\n",
       "      <td>25.000000</td>\n",
       "      <td>100.548333</td>\n",
       "    </tr>\n",
       "    <tr>\n",
       "      <th>Thunderstorms</th>\n",
       "      <td>24.150000</td>\n",
       "      <td>19.750000</td>\n",
       "      <td>77.000000</td>\n",
       "      <td>7.500000</td>\n",
       "      <td>24.550000</td>\n",
       "      <td>100.230000</td>\n",
       "    </tr>\n",
       "    <tr>\n",
       "      <th>Thunderstorms,Heavy Rain Showers</th>\n",
       "      <td>10.900000</td>\n",
       "      <td>9.000000</td>\n",
       "      <td>88.000000</td>\n",
       "      <td>9.000000</td>\n",
       "      <td>25.000000</td>\n",
       "      <td>100.260000</td>\n",
       "    </tr>\n",
       "    <tr>\n",
       "      <th>Thunderstorms,Moderate Rain Showers,Fog</th>\n",
       "      <td>19.600000</td>\n",
       "      <td>18.500000</td>\n",
       "      <td>93.000000</td>\n",
       "      <td>15.000000</td>\n",
       "      <td>25.000000</td>\n",
       "      <td>100.010000</td>\n",
       "    </tr>\n",
       "    <tr>\n",
       "      <th>Thunderstorms,Rain</th>\n",
       "      <td>20.433333</td>\n",
       "      <td>18.533333</td>\n",
       "      <td>89.000000</td>\n",
       "      <td>15.666667</td>\n",
       "      <td>24.700000</td>\n",
       "      <td>100.420000</td>\n",
       "    </tr>\n",
       "    <tr>\n",
       "      <th>Thunderstorms,Rain Showers</th>\n",
       "      <td>20.037500</td>\n",
       "      <td>17.618750</td>\n",
       "      <td>86.375000</td>\n",
       "      <td>18.312500</td>\n",
       "      <td>24.831250</td>\n",
       "      <td>100.233750</td>\n",
       "    </tr>\n",
       "    <tr>\n",
       "      <th>Thunderstorms,Rain Showers,Fog</th>\n",
       "      <td>21.600000</td>\n",
       "      <td>18.700000</td>\n",
       "      <td>84.000000</td>\n",
       "      <td>19.666667</td>\n",
       "      <td>25.000000</td>\n",
       "      <td>100.063333</td>\n",
       "    </tr>\n",
       "    <tr>\n",
       "      <th>Thunderstorms,Rain,Fog</th>\n",
       "      <td>20.600000</td>\n",
       "      <td>18.600000</td>\n",
       "      <td>88.000000</td>\n",
       "      <td>19.000000</td>\n",
       "      <td>25.000000</td>\n",
       "      <td>100.080000</td>\n",
       "    </tr>\n",
       "  </tbody>\n",
       "</table>\n",
       "</div>"
      ],
      "text/plain": [
       "                                            Temp_C  Dew Point Temp_C  \\\n",
       "Weather                                                                \n",
       "Clear                                     6.825716          0.089367   \n",
       "Cloudy                                    7.970544          2.375810   \n",
       "Drizzle                                   7.353659          5.504878   \n",
       "Drizzle,Fog                               8.067500          7.033750   \n",
       "Drizzle,Ice Pellets,Fog                   0.400000         -0.700000   \n",
       "Drizzle,Snow                              1.050000          0.150000   \n",
       "Drizzle,Snow,Fog                          0.693333          0.120000   \n",
       "Fog                                       4.303333          3.159333   \n",
       "Freezing Drizzle                         -5.657143         -8.000000   \n",
       "Freezing Drizzle,Fog                     -2.533333         -4.183333   \n",
       "Freezing Drizzle,Haze                    -5.433333         -8.000000   \n",
       "Freezing Drizzle,Snow                    -5.109091         -7.072727   \n",
       "Freezing Fog                             -7.575000         -9.250000   \n",
       "Freezing Rain                            -3.885714         -6.078571   \n",
       "Freezing Rain,Fog                        -2.225000         -3.750000   \n",
       "Freezing Rain,Haze                       -4.900000         -7.450000   \n",
       "Freezing Rain,Ice Pellets,Fog            -2.600000         -3.700000   \n",
       "Freezing Rain,Snow Grains                -5.000000         -7.300000   \n",
       "Haze                                     -0.200000         -2.975000   \n",
       "Mainly Clear                             12.558927          4.581671   \n",
       "Moderate Rain,Fog                         1.700000          0.800000   \n",
       "Moderate Snow                            -5.525000         -7.250000   \n",
       "Moderate Snow,Blowing Snow               -5.450000         -6.500000   \n",
       "Mostly Cloudy                            10.574287          3.131174   \n",
       "Rain                                      9.786275          7.042810   \n",
       "Rain Showers                             13.722340          9.187766   \n",
       "Rain Showers,Fog                         12.800000         12.100000   \n",
       "Rain Showers,Snow Showers                 2.150000         -1.500000   \n",
       "Rain,Fog                                  8.273276          7.219828   \n",
       "Rain,Haze                                 4.633333          2.066667   \n",
       "Rain,Ice Pellets                          0.600000         -0.600000   \n",
       "Rain,Snow                                 1.055556         -0.566667   \n",
       "Rain,Snow Grains                          1.900000         -2.100000   \n",
       "Rain,Snow,Fog                             0.800000          0.300000   \n",
       "Rain,Snow,Ice Pellets                     1.100000         -0.175000   \n",
       "Snow                                     -4.524103         -7.623333   \n",
       "Snow Pellets                              0.700000         -6.400000   \n",
       "Snow Showers                             -3.506667         -7.866667   \n",
       "Snow Showers,Fog                        -10.675000        -11.900000   \n",
       "Snow,Blowing Snow                        -5.410526         -7.621053   \n",
       "Snow,Fog                                 -5.075676         -6.364865   \n",
       "Snow,Haze                                -4.020000         -6.860000   \n",
       "Snow,Ice Pellets                         -1.883333         -3.666667   \n",
       "Thunderstorms                            24.150000         19.750000   \n",
       "Thunderstorms,Heavy Rain Showers         10.900000          9.000000   \n",
       "Thunderstorms,Moderate Rain Showers,Fog  19.600000         18.500000   \n",
       "Thunderstorms,Rain                       20.433333         18.533333   \n",
       "Thunderstorms,Rain Showers               20.037500         17.618750   \n",
       "Thunderstorms,Rain Showers,Fog           21.600000         18.700000   \n",
       "Thunderstorms,Rain,Fog                   20.600000         18.600000   \n",
       "\n",
       "                                         Rel Hum_%  Wind Speed_km/h  \\\n",
       "Weather                                                               \n",
       "Clear                                    64.497738        10.557315   \n",
       "Cloudy                                   69.592593        16.127315   \n",
       "Drizzle                                  88.243902        16.097561   \n",
       "Drizzle,Fog                              93.275000        11.862500   \n",
       "Drizzle,Ice Pellets,Fog                  92.000000        20.000000   \n",
       "Drizzle,Snow                             93.500000        14.000000   \n",
       "Drizzle,Snow,Fog                         95.866667        15.533333   \n",
       "Fog                                      92.286667         7.946667   \n",
       "Freezing Drizzle                         83.571429        16.571429   \n",
       "Freezing Drizzle,Fog                     88.500000        17.000000   \n",
       "Freezing Drizzle,Haze                    82.000000        10.333333   \n",
       "Freezing Drizzle,Snow                    86.090909        16.272727   \n",
       "Freezing Fog                             87.750000         4.750000   \n",
       "Freezing Rain                            84.642857        19.214286   \n",
       "Freezing Rain,Fog                        89.500000        15.500000   \n",
       "Freezing Rain,Haze                       82.500000         7.500000   \n",
       "Freezing Rain,Ice Pellets,Fog            92.000000        28.000000   \n",
       "Freezing Rain,Snow Grains                84.000000        32.000000   \n",
       "Haze                                     81.625000        10.437500   \n",
       "Mainly Clear                             60.667142        14.144824   \n",
       "Moderate Rain,Fog                        94.000000        17.000000   \n",
       "Moderate Snow                            87.750000        33.750000   \n",
       "Moderate Snow,Blowing Snow               92.500000        40.000000   \n",
       "Mostly Cloudy                            62.102465        15.813920   \n",
       "Rain                                     83.624183        19.254902   \n",
       "Rain Showers                             75.159574        17.132979   \n",
       "Rain Showers,Fog                         96.000000        13.000000   \n",
       "Rain Showers,Snow Showers                76.500000        22.500000   \n",
       "Rain,Fog                                 93.189655        14.793103   \n",
       "Rain,Haze                                83.333333        11.666667   \n",
       "Rain,Ice Pellets                         92.000000        24.000000   \n",
       "Rain,Snow                                89.000000        28.388889   \n",
       "Rain,Snow Grains                         75.000000        26.000000   \n",
       "Rain,Snow,Fog                            96.000000         9.000000   \n",
       "Rain,Snow,Ice Pellets                    91.500000        23.250000   \n",
       "Snow                                     79.307692        20.038462   \n",
       "Snow Pellets                             59.000000        35.000000   \n",
       "Snow Showers                             72.350000        19.233333   \n",
       "Snow Showers,Fog                         90.750000        13.750000   \n",
       "Snow,Blowing Snow                        84.473684        34.842105   \n",
       "Snow,Fog                                 90.675676        17.324324   \n",
       "Snow,Haze                                80.600000         5.000000   \n",
       "Snow,Ice Pellets                         87.666667        23.833333   \n",
       "Thunderstorms                            77.000000         7.500000   \n",
       "Thunderstorms,Heavy Rain Showers         88.000000         9.000000   \n",
       "Thunderstorms,Moderate Rain Showers,Fog  93.000000        15.000000   \n",
       "Thunderstorms,Rain                       89.000000        15.666667   \n",
       "Thunderstorms,Rain Showers               86.375000        18.312500   \n",
       "Thunderstorms,Rain Showers,Fog           84.000000        19.666667   \n",
       "Thunderstorms,Rain,Fog                   88.000000        19.000000   \n",
       "\n",
       "                                         Visibility_km   Press_kPa  \n",
       "Weather                                                             \n",
       "Clear                                        24.922624  101.587443  \n",
       "Cloudy                                       24.697917  100.911441  \n",
       "Drizzle                                      24.692683  100.435366  \n",
       "Drizzle,Fog                                  25.000000  100.786625  \n",
       "Drizzle,Ice Pellets,Fog                      25.000000  100.790000  \n",
       "Drizzle,Snow                                 25.000000  100.890000  \n",
       "Drizzle,Snow,Fog                             25.000000   99.281333  \n",
       "Fog                                          25.000000  101.184067  \n",
       "Freezing Drizzle                             25.000000  100.202857  \n",
       "Freezing Drizzle,Fog                         25.000000  100.441667  \n",
       "Freezing Drizzle,Haze                        25.000000  100.316667  \n",
       "Freezing Drizzle,Snow                        25.000000  100.520909  \n",
       "Freezing Fog                                 25.000000  102.320000  \n",
       "Freezing Rain                                25.000000   99.647143  \n",
       "Freezing Rain,Fog                            25.000000   99.945000  \n",
       "Freezing Rain,Haze                           25.000000  100.375000  \n",
       "Freezing Rain,Ice Pellets,Fog                25.000000  100.950000  \n",
       "Freezing Rain,Snow Grains                    25.000000   98.560000  \n",
       "Haze                                         25.000000  101.482500  \n",
       "Mainly Clear                                 24.822222  101.248832  \n",
       "Moderate Rain,Fog                            25.000000   99.980000  \n",
       "Moderate Snow                                25.000000  100.275000  \n",
       "Moderate Snow,Blowing Snow                   25.000000  100.570000  \n",
       "Mostly Cloudy                                24.734219  101.025288  \n",
       "Rain                                         24.802941  100.233333  \n",
       "Rain Showers                                 24.664894  100.404043  \n",
       "Rain Showers,Fog                             25.000000   99.830000  \n",
       "Rain Showers,Snow Showers                    24.550000  101.100000  \n",
       "Rain,Fog                                     25.000000  100.500862  \n",
       "Rain,Haze                                    25.000000  100.540000  \n",
       "Rain,Ice Pellets                             25.000000  100.120000  \n",
       "Rain,Snow                                    25.000000   99.951111  \n",
       "Rain,Snow Grains                             25.000000  100.600000  \n",
       "Rain,Snow,Fog                                25.000000  100.730000  \n",
       "Rain,Snow,Ice Pellets                        25.000000  100.105000  \n",
       "Snow                                         24.926154  100.536103  \n",
       "Snow Pellets                                 25.000000   99.700000  \n",
       "Snow Showers                                 24.835000  100.963500  \n",
       "Snow Showers,Fog                             25.000000  101.292500  \n",
       "Snow,Blowing Snow                            25.000000   99.704737  \n",
       "Snow,Fog                                     25.000000  100.688649  \n",
       "Snow,Haze                                    25.000000  100.782000  \n",
       "Snow,Ice Pellets                             25.000000  100.548333  \n",
       "Thunderstorms                                24.550000  100.230000  \n",
       "Thunderstorms,Heavy Rain Showers             25.000000  100.260000  \n",
       "Thunderstorms,Moderate Rain Showers,Fog      25.000000  100.010000  \n",
       "Thunderstorms,Rain                           24.700000  100.420000  \n",
       "Thunderstorms,Rain Showers                   24.831250  100.233750  \n",
       "Thunderstorms,Rain Showers,Fog               25.000000  100.063333  \n",
       "Thunderstorms,Rain,Fog                       25.000000  100.080000  "
      ]
     },
     "execution_count": 47,
     "metadata": {},
     "output_type": "execute_result"
    }
   ],
   "source": [
    "df.groupby(\"Weather\").mean()"
   ]
  },
  {
   "cell_type": "code",
   "execution_count": 48,
   "id": "2b71a4b6",
   "metadata": {},
   "outputs": [
    {
     "data": {
      "text/plain": [
       "Index(['Date/Time', 'Temp_C', 'Dew Point Temp_C', 'Rel Hum_%',\n",
       "       'Wind Speed_km/h', 'Visibility_km', 'Press_kPa', 'Weather'],\n",
       "      dtype='object')"
      ]
     },
     "execution_count": 48,
     "metadata": {},
     "output_type": "execute_result"
    }
   ],
   "source": [
    "df.columns"
   ]
  },
  {
   "cell_type": "code",
   "execution_count": 49,
   "id": "6ab647ef",
   "metadata": {},
   "outputs": [],
   "source": [
    "corr=df.corr()"
   ]
  },
  {
   "cell_type": "code",
   "execution_count": 50,
   "id": "3c93cd46",
   "metadata": {},
   "outputs": [
    {
     "data": {
      "text/html": [
       "<div>\n",
       "<style scoped>\n",
       "    .dataframe tbody tr th:only-of-type {\n",
       "        vertical-align: middle;\n",
       "    }\n",
       "\n",
       "    .dataframe tbody tr th {\n",
       "        vertical-align: top;\n",
       "    }\n",
       "\n",
       "    .dataframe thead th {\n",
       "        text-align: right;\n",
       "    }\n",
       "</style>\n",
       "<table border=\"1\" class=\"dataframe\">\n",
       "  <thead>\n",
       "    <tr style=\"text-align: right;\">\n",
       "      <th></th>\n",
       "      <th>Temp_C</th>\n",
       "      <th>Dew Point Temp_C</th>\n",
       "      <th>Rel Hum_%</th>\n",
       "      <th>Wind Speed_km/h</th>\n",
       "      <th>Visibility_km</th>\n",
       "      <th>Press_kPa</th>\n",
       "    </tr>\n",
       "  </thead>\n",
       "  <tbody>\n",
       "    <tr>\n",
       "      <th>Temp_C</th>\n",
       "      <td>1.000000</td>\n",
       "      <td>0.932714</td>\n",
       "      <td>-0.220182</td>\n",
       "      <td>-0.061876</td>\n",
       "      <td>-0.118472</td>\n",
       "      <td>-0.236389</td>\n",
       "    </tr>\n",
       "    <tr>\n",
       "      <th>Dew Point Temp_C</th>\n",
       "      <td>0.932714</td>\n",
       "      <td>1.000000</td>\n",
       "      <td>0.139494</td>\n",
       "      <td>-0.095685</td>\n",
       "      <td>-0.135254</td>\n",
       "      <td>-0.320616</td>\n",
       "    </tr>\n",
       "    <tr>\n",
       "      <th>Rel Hum_%</th>\n",
       "      <td>-0.220182</td>\n",
       "      <td>0.139494</td>\n",
       "      <td>1.000000</td>\n",
       "      <td>-0.092743</td>\n",
       "      <td>0.000037</td>\n",
       "      <td>-0.231424</td>\n",
       "    </tr>\n",
       "    <tr>\n",
       "      <th>Wind Speed_km/h</th>\n",
       "      <td>-0.061876</td>\n",
       "      <td>-0.095685</td>\n",
       "      <td>-0.092743</td>\n",
       "      <td>1.000000</td>\n",
       "      <td>-0.109291</td>\n",
       "      <td>-0.356613</td>\n",
       "    </tr>\n",
       "    <tr>\n",
       "      <th>Visibility_km</th>\n",
       "      <td>-0.118472</td>\n",
       "      <td>-0.135254</td>\n",
       "      <td>0.000037</td>\n",
       "      <td>-0.109291</td>\n",
       "      <td>1.000000</td>\n",
       "      <td>0.095504</td>\n",
       "    </tr>\n",
       "    <tr>\n",
       "      <th>Press_kPa</th>\n",
       "      <td>-0.236389</td>\n",
       "      <td>-0.320616</td>\n",
       "      <td>-0.231424</td>\n",
       "      <td>-0.356613</td>\n",
       "      <td>0.095504</td>\n",
       "      <td>1.000000</td>\n",
       "    </tr>\n",
       "  </tbody>\n",
       "</table>\n",
       "</div>"
      ],
      "text/plain": [
       "                    Temp_C  Dew Point Temp_C  Rel Hum_%  Wind Speed_km/h  \\\n",
       "Temp_C            1.000000          0.932714  -0.220182        -0.061876   \n",
       "Dew Point Temp_C  0.932714          1.000000   0.139494        -0.095685   \n",
       "Rel Hum_%        -0.220182          0.139494   1.000000        -0.092743   \n",
       "Wind Speed_km/h  -0.061876         -0.095685  -0.092743         1.000000   \n",
       "Visibility_km    -0.118472         -0.135254   0.000037        -0.109291   \n",
       "Press_kPa        -0.236389         -0.320616  -0.231424        -0.356613   \n",
       "\n",
       "                  Visibility_km  Press_kPa  \n",
       "Temp_C                -0.118472  -0.236389  \n",
       "Dew Point Temp_C      -0.135254  -0.320616  \n",
       "Rel Hum_%              0.000037  -0.231424  \n",
       "Wind Speed_km/h       -0.109291  -0.356613  \n",
       "Visibility_km          1.000000   0.095504  \n",
       "Press_kPa              0.095504   1.000000  "
      ]
     },
     "execution_count": 50,
     "metadata": {},
     "output_type": "execute_result"
    }
   ],
   "source": [
    "corr"
   ]
  },
  {
   "cell_type": "code",
   "execution_count": 51,
   "id": "381007e5",
   "metadata": {},
   "outputs": [
    {
     "data": {
      "text/plain": [
       "<AxesSubplot:>"
      ]
     },
     "execution_count": 51,
     "metadata": {},
     "output_type": "execute_result"
    },
    {
     "data": {
      "image/png": "[encoded data removed]",
      "text/plain": [
       "<Figure size 432x288 with 2 Axes>"
      ]
     },
     "metadata": {
      "needs_background": "light"
     },
     "output_type": "display_data"
    }
   ],
   "source": [
    "sns.heatmap(corr.rank(axis=\"columns\"),annot=True,fmt=\".1f\",linewidths=.5)"
   ]
  },
  {
   "cell_type": "code",
   "execution_count": 52,
   "id": "e37027ab",
   "metadata": {},
   "outputs": [],
   "source": [
    "df.to_csv(\"Weather Data Update\")"
   ]
  },
  {
   "cell_type": "code",
   "execution_count": null,
   "id": "f13ad41c",
   "metadata": {},
   "outputs": [],
   "source": []
  }
 ],
 "metadata": {
  "kernelspec": {
   "display_name": "Python 3",
   "language": "python",
   "name": "python3"
  },
  "language_info": {
   "codemirror_mode": {
    "name": "ipython",
    "version": 3
   },
   "file_extension": ".py",
   "mimetype": "text/x-python",
   "name": "python",
   "nbconvert_exporter": "python",
   "pygments_lexer": "ipython3",
   "version": "3.8.8"
  }
 },
 "nbformat": 4,
 "nbformat_minor": 5
}
